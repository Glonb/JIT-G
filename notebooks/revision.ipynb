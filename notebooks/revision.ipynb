{
 "cells": [
  {
   "cell_type": "code",
   "execution_count": 232,
   "id": "2ea0529a",
   "metadata": {},
   "outputs": [],
   "source": [
    "%config Completer.use_jedi = False\n",
    "%config IPCompleter.greedy=True"
   ]
  },
  {
   "cell_type": "code",
   "execution_count": 233,
   "id": "fa6b7615",
   "metadata": {},
   "outputs": [],
   "source": [
    "import pandas as pd\n",
    "import numpy as np\n",
    "from sklearn.metrics import roc_auc_score, roc_curve, precision_recall_curve\n",
    "import matplotlib.pyplot as plt\n",
    "from sklearn import metrics\n",
    "from sklearn.metrics import precision_recall_fscore_support\n",
    "from sklearn.metrics import f1_score\n",
    "from sklearn.metrics import auc"
   ]
  },
  {
   "cell_type": "code",
   "execution_count": 234,
   "id": "bae28005",
   "metadata": {},
   "outputs": [],
   "source": [
    "apache_prd = pd.read_csv(\"../data/test_evaluations/evaluations/apache_predictions.csv\")\n",
    "open_prd = pd.read_csv(\"../data/test_evaluations/evaluations/openstack_predictions.csv\")"
   ]
  },
  {
   "cell_type": "code",
   "execution_count": 235,
   "id": "28de4c14",
   "metadata": {},
   "outputs": [
    {
     "data": {
      "text/html": [
       "<div>\n",
       "<style scoped>\n",
       "    .dataframe tbody tr th:only-of-type {\n",
       "        vertical-align: middle;\n",
       "    }\n",
       "\n",
       "    .dataframe tbody tr th {\n",
       "        vertical-align: top;\n",
       "    }\n",
       "\n",
       "    .dataframe thead th {\n",
       "        text-align: right;\n",
       "    }\n",
       "</style>\n",
       "<table border=\"1\" class=\"dataframe\">\n",
       "  <thead>\n",
       "    <tr style=\"text-align: right;\">\n",
       "      <th></th>\n",
       "      <th>commit_id</th>\n",
       "      <th>actual</th>\n",
       "      <th>jitgnn_prob</th>\n",
       "      <th>jitline_prob</th>\n",
       "      <th>base_prob</th>\n",
       "      <th>jitgnn_prd</th>\n",
       "      <th>jitline_prd</th>\n",
       "      <th>base_prd</th>\n",
       "    </tr>\n",
       "  </thead>\n",
       "  <tbody>\n",
       "    <tr>\n",
       "      <th>0</th>\n",
       "      <td>b0f422c3861a5a3831e481b8ffac08f6fa085d00</td>\n",
       "      <td>1</td>\n",
       "      <td>0.260028</td>\n",
       "      <td>0.646667</td>\n",
       "      <td>0.556848</td>\n",
       "      <td>0</td>\n",
       "      <td>1</td>\n",
       "      <td>1</td>\n",
       "    </tr>\n",
       "    <tr>\n",
       "      <th>1</th>\n",
       "      <td>593dffecd7bad47739a7cbd319d14bb3e911038a</td>\n",
       "      <td>0</td>\n",
       "      <td>0.288836</td>\n",
       "      <td>0.203333</td>\n",
       "      <td>0.074594</td>\n",
       "      <td>0</td>\n",
       "      <td>0</td>\n",
       "      <td>0</td>\n",
       "    </tr>\n",
       "    <tr>\n",
       "      <th>2</th>\n",
       "      <td>c561cb316e365ef674784cd6cf0b12c0fbc271a3</td>\n",
       "      <td>1</td>\n",
       "      <td>0.839183</td>\n",
       "      <td>0.836667</td>\n",
       "      <td>0.780543</td>\n",
       "      <td>1</td>\n",
       "      <td>1</td>\n",
       "      <td>1</td>\n",
       "    </tr>\n",
       "    <tr>\n",
       "      <th>3</th>\n",
       "      <td>4ebc23ba7b16c7b9acf38b5a864682a6c8890690</td>\n",
       "      <td>0</td>\n",
       "      <td>0.475002</td>\n",
       "      <td>0.630000</td>\n",
       "      <td>0.543089</td>\n",
       "      <td>0</td>\n",
       "      <td>1</td>\n",
       "      <td>1</td>\n",
       "    </tr>\n",
       "    <tr>\n",
       "      <th>4</th>\n",
       "      <td>dde018dc7c9fa0e4257d2aa09d2d6d306bc17ccd</td>\n",
       "      <td>0</td>\n",
       "      <td>0.206722</td>\n",
       "      <td>0.050000</td>\n",
       "      <td>0.050943</td>\n",
       "      <td>0</td>\n",
       "      <td>0</td>\n",
       "      <td>0</td>\n",
       "    </tr>\n",
       "    <tr>\n",
       "      <th>...</th>\n",
       "      <td>...</td>\n",
       "      <td>...</td>\n",
       "      <td>...</td>\n",
       "      <td>...</td>\n",
       "      <td>...</td>\n",
       "      <td>...</td>\n",
       "      <td>...</td>\n",
       "      <td>...</td>\n",
       "    </tr>\n",
       "    <tr>\n",
       "      <th>7510</th>\n",
       "      <td>66ac59f285d1bc8d8b633a0dea318af92734d689</td>\n",
       "      <td>0</td>\n",
       "      <td>0.250133</td>\n",
       "      <td>0.603333</td>\n",
       "      <td>0.375504</td>\n",
       "      <td>0</td>\n",
       "      <td>1</td>\n",
       "      <td>0</td>\n",
       "    </tr>\n",
       "    <tr>\n",
       "      <th>7511</th>\n",
       "      <td>10d0e4be6eade7c1685b9c6962bc9b18e33122a8</td>\n",
       "      <td>0</td>\n",
       "      <td>0.177446</td>\n",
       "      <td>0.506667</td>\n",
       "      <td>0.307733</td>\n",
       "      <td>0</td>\n",
       "      <td>1</td>\n",
       "      <td>0</td>\n",
       "    </tr>\n",
       "    <tr>\n",
       "      <th>7512</th>\n",
       "      <td>818569f6d0bb282eed58c14c9041670ced3905ad</td>\n",
       "      <td>1</td>\n",
       "      <td>0.871664</td>\n",
       "      <td>0.876667</td>\n",
       "      <td>0.837267</td>\n",
       "      <td>1</td>\n",
       "      <td>1</td>\n",
       "      <td>1</td>\n",
       "    </tr>\n",
       "    <tr>\n",
       "      <th>7513</th>\n",
       "      <td>303a7f8a39349e518e0050860a2656f6e58ee704</td>\n",
       "      <td>0</td>\n",
       "      <td>0.171901</td>\n",
       "      <td>0.040000</td>\n",
       "      <td>0.238006</td>\n",
       "      <td>0</td>\n",
       "      <td>0</td>\n",
       "      <td>0</td>\n",
       "    </tr>\n",
       "    <tr>\n",
       "      <th>7514</th>\n",
       "      <td>5ce93511290d2bcf69e41d7ca5cec7464076d81d</td>\n",
       "      <td>0</td>\n",
       "      <td>0.969287</td>\n",
       "      <td>0.890000</td>\n",
       "      <td>0.968710</td>\n",
       "      <td>1</td>\n",
       "      <td>1</td>\n",
       "      <td>1</td>\n",
       "    </tr>\n",
       "  </tbody>\n",
       "</table>\n",
       "<p>7515 rows × 8 columns</p>\n",
       "</div>"
      ],
      "text/plain": [
       "                                     commit_id  actual  jitgnn_prob  \\\n",
       "0     b0f422c3861a5a3831e481b8ffac08f6fa085d00       1     0.260028   \n",
       "1     593dffecd7bad47739a7cbd319d14bb3e911038a       0     0.288836   \n",
       "2     c561cb316e365ef674784cd6cf0b12c0fbc271a3       1     0.839183   \n",
       "3     4ebc23ba7b16c7b9acf38b5a864682a6c8890690       0     0.475002   \n",
       "4     dde018dc7c9fa0e4257d2aa09d2d6d306bc17ccd       0     0.206722   \n",
       "...                                        ...     ...          ...   \n",
       "7510  66ac59f285d1bc8d8b633a0dea318af92734d689       0     0.250133   \n",
       "7511  10d0e4be6eade7c1685b9c6962bc9b18e33122a8       0     0.177446   \n",
       "7512  818569f6d0bb282eed58c14c9041670ced3905ad       1     0.871664   \n",
       "7513  303a7f8a39349e518e0050860a2656f6e58ee704       0     0.171901   \n",
       "7514  5ce93511290d2bcf69e41d7ca5cec7464076d81d       0     0.969287   \n",
       "\n",
       "      jitline_prob  base_prob  jitgnn_prd  jitline_prd  base_prd  \n",
       "0         0.646667   0.556848           0            1         1  \n",
       "1         0.203333   0.074594           0            0         0  \n",
       "2         0.836667   0.780543           1            1         1  \n",
       "3         0.630000   0.543089           0            1         1  \n",
       "4         0.050000   0.050943           0            0         0  \n",
       "...            ...        ...         ...          ...       ...  \n",
       "7510      0.603333   0.375504           0            1         0  \n",
       "7511      0.506667   0.307733           0            1         0  \n",
       "7512      0.876667   0.837267           1            1         1  \n",
       "7513      0.040000   0.238006           0            0         0  \n",
       "7514      0.890000   0.968710           1            1         1  \n",
       "\n",
       "[7515 rows x 8 columns]"
      ]
     },
     "execution_count": 235,
     "metadata": {},
     "output_type": "execute_result"
    }
   ],
   "source": [
    "apache_prd"
   ]
  },
  {
   "cell_type": "code",
   "execution_count": 236,
   "id": "761b6c0f",
   "metadata": {},
   "outputs": [],
   "source": [
    "bound = np.arange(0.20, 0.60, 0.01)"
   ]
  },
  {
   "cell_type": "markdown",
   "id": "e5141a0a",
   "metadata": {},
   "source": [
    "## Apache / JITGNN"
   ]
  },
  {
   "cell_type": "code",
   "execution_count": 237,
   "id": "513cf47e",
   "metadata": {},
   "outputs": [],
   "source": [
    "y_true = apache_prd[\"actual\"]"
   ]
  },
  {
   "cell_type": "code",
   "execution_count": 238,
   "id": "31fb147b",
   "metadata": {},
   "outputs": [
    {
     "data": {
      "text/plain": [
       "0       0.260028\n",
       "1       0.288836\n",
       "2       0.839183\n",
       "3       0.475002\n",
       "4       0.206722\n",
       "          ...   \n",
       "7510    0.250133\n",
       "7511    0.177446\n",
       "7512    0.871664\n",
       "7513    0.171901\n",
       "7514    0.969287\n",
       "Name: jitgnn_prob, Length: 7515, dtype: float64"
      ]
     },
     "execution_count": 238,
     "metadata": {},
     "output_type": "execute_result"
    }
   ],
   "source": [
    "gnn_prd = apache_prd[\"jitgnn_prob\"]\n",
    "gnn_prd"
   ]
  },
  {
   "cell_type": "code",
   "execution_count": 239,
   "id": "f415905d",
   "metadata": {},
   "outputs": [
    {
     "name": "stdout",
     "output_type": "stream",
     "text": [
      "at 0.20 threshold, matthews corrcoef=0.22\n",
      "at 0.21 threshold, matthews corrcoef=0.24\n",
      "at 0.22 threshold, matthews corrcoef=0.26\n",
      "at 0.23 threshold, matthews corrcoef=0.27\n",
      "at 0.24 threshold, matthews corrcoef=0.28\n",
      "at 0.25 threshold, matthews corrcoef=0.28\n",
      "at 0.26 threshold, matthews corrcoef=0.29\n",
      "at 0.27 threshold, matthews corrcoef=0.29\n",
      "at 0.28 threshold, matthews corrcoef=0.29\n",
      "at 0.29 threshold, matthews corrcoef=0.30\n",
      "at 0.30 threshold, matthews corrcoef=0.30\n",
      "at 0.31 threshold, matthews corrcoef=0.31\n",
      "at 0.32 threshold, matthews corrcoef=0.30\n",
      "at 0.33 threshold, matthews corrcoef=0.31\n",
      "at 0.34 threshold, matthews corrcoef=0.32\n",
      "at 0.35 threshold, matthews corrcoef=0.32\n",
      "at 0.36 threshold, matthews corrcoef=0.33\n",
      "at 0.37 threshold, matthews corrcoef=0.34\n",
      "at 0.38 threshold, matthews corrcoef=0.34\n",
      "at 0.39 threshold, matthews corrcoef=0.34\n",
      "at 0.40 threshold, matthews corrcoef=0.35\n",
      "at 0.41 threshold, matthews corrcoef=0.35\n",
      "at 0.42 threshold, matthews corrcoef=0.35\n",
      "at 0.43 threshold, matthews corrcoef=0.36\n",
      "at 0.44 threshold, matthews corrcoef=0.36\n",
      "at 0.45 threshold, matthews corrcoef=0.37\n",
      "at 0.46 threshold, matthews corrcoef=0.37\n",
      "at 0.47 threshold, matthews corrcoef=0.37\n",
      "at 0.48 threshold, matthews corrcoef=0.37\n",
      "at 0.49 threshold, matthews corrcoef=0.38\n",
      "at 0.50 threshold, matthews corrcoef=0.38\n",
      "at 0.51 threshold, matthews corrcoef=0.38\n",
      "at 0.52 threshold, matthews corrcoef=0.38\n",
      "at 0.53 threshold, matthews corrcoef=0.38\n",
      "at 0.54 threshold, matthews corrcoef=0.39\n",
      "at 0.55 threshold, matthews corrcoef=0.39\n",
      "at 0.56 threshold, matthews corrcoef=0.40\n",
      "at 0.57 threshold, matthews corrcoef=0.40\n",
      "at 0.58 threshold, matthews corrcoef=0.40\n",
      "at 0.59 threshold, matthews corrcoef=0.40\n"
     ]
    }
   ],
   "source": [
    "from sklearn.metrics import matthews_corrcoef\n",
    "\n",
    "for b in bound:\n",
    "    pred = [1 if prob >= b else 0 for prob in gnn_prd]\n",
    "    print('at {:3.2f} threshold, matthews corrcoef={:.2f}'.format(b, matthews_corrcoef(y_true, pred)))"
   ]
  },
  {
   "cell_type": "code",
   "execution_count": 240,
   "id": "22b3b34a",
   "metadata": {},
   "outputs": [
    {
     "data": {
      "text/plain": [
       "0.8087744991512827"
      ]
     },
     "execution_count": 240,
     "metadata": {},
     "output_type": "execute_result"
    }
   ],
   "source": [
    "roc_auc_score(y_true, gnn_prd)"
   ]
  },
  {
   "cell_type": "code",
   "execution_count": 241,
   "id": "a242ce58",
   "metadata": {},
   "outputs": [
    {
     "name": "stdout",
     "output_type": "stream",
     "text": [
      "at 0.20 threshold, p=0.24, r=0.95, f1=0.39\n",
      "at 0.21 threshold, p=0.25, r=0.94, f1=0.40\n",
      "at 0.22 threshold, p=0.26, r=0.93, f1=0.41\n",
      "at 0.23 threshold, p=0.27, r=0.93, f1=0.41\n",
      "at 0.24 threshold, p=0.27, r=0.93, f1=0.42\n",
      "at 0.25 threshold, p=0.27, r=0.92, f1=0.42\n",
      "at 0.26 threshold, p=0.28, r=0.92, f1=0.42\n",
      "at 0.27 threshold, p=0.28, r=0.91, f1=0.43\n",
      "at 0.28 threshold, p=0.28, r=0.91, f1=0.43\n",
      "at 0.29 threshold, p=0.29, r=0.90, f1=0.43\n",
      "at 0.30 threshold, p=0.29, r=0.90, f1=0.44\n",
      "at 0.31 threshold, p=0.29, r=0.89, f1=0.44\n",
      "at 0.32 threshold, p=0.29, r=0.88, f1=0.44\n",
      "at 0.33 threshold, p=0.30, r=0.88, f1=0.44\n",
      "at 0.34 threshold, p=0.30, r=0.88, f1=0.45\n",
      "at 0.35 threshold, p=0.31, r=0.87, f1=0.45\n",
      "at 0.36 threshold, p=0.31, r=0.87, f1=0.46\n",
      "at 0.37 threshold, p=0.32, r=0.87, f1=0.47\n",
      "at 0.38 threshold, p=0.32, r=0.86, f1=0.47\n",
      "at 0.39 threshold, p=0.33, r=0.86, f1=0.47\n",
      "at 0.40 threshold, p=0.33, r=0.85, f1=0.48\n",
      "at 0.41 threshold, p=0.33, r=0.85, f1=0.48\n",
      "at 0.42 threshold, p=0.34, r=0.84, f1=0.48\n",
      "at 0.43 threshold, p=0.34, r=0.83, f1=0.48\n",
      "at 0.44 threshold, p=0.35, r=0.83, f1=0.49\n",
      "at 0.45 threshold, p=0.35, r=0.82, f1=0.49\n",
      "at 0.46 threshold, p=0.35, r=0.81, f1=0.49\n",
      "at 0.47 threshold, p=0.36, r=0.80, f1=0.50\n",
      "at 0.48 threshold, p=0.36, r=0.80, f1=0.50\n",
      "at 0.49 threshold, p=0.37, r=0.79, f1=0.50\n",
      "at 0.50 threshold, p=0.37, r=0.78, f1=0.50\n",
      "at 0.51 threshold, p=0.37, r=0.77, f1=0.50\n",
      "at 0.52 threshold, p=0.38, r=0.77, f1=0.51\n",
      "at 0.53 threshold, p=0.38, r=0.76, f1=0.51\n",
      "at 0.54 threshold, p=0.39, r=0.76, f1=0.51\n",
      "at 0.55 threshold, p=0.40, r=0.75, f1=0.52\n",
      "at 0.56 threshold, p=0.40, r=0.74, f1=0.52\n",
      "at 0.57 threshold, p=0.40, r=0.73, f1=0.52\n",
      "at 0.58 threshold, p=0.41, r=0.72, f1=0.52\n",
      "at 0.59 threshold, p=0.42, r=0.72, f1=0.53\n"
     ]
    }
   ],
   "source": [
    "precisions = []\n",
    "recalls = []\n",
    "\n",
    "for b in bound:\n",
    "    pred = [1 if prob >= b else 0 for prob in gnn_prd]\n",
    "    p, r, f1, _ = precision_recall_fscore_support(y_true, pred, average='binary')\n",
    "    precisions.append(p)\n",
    "    recalls.append(r)\n",
    "    print('at {:3.2f} threshold, p={:.2f}, r={:.2f}, f1={:.2f}'.format(b, p, r, f1))"
   ]
  },
  {
   "cell_type": "code",
   "execution_count": 242,
   "id": "01d26244",
   "metadata": {},
   "outputs": [
    {
     "name": "stdout",
     "output_type": "stream",
     "text": [
      "at 0.20 threshold, p=0.96, r=0.30, f1=0.46\n",
      "at 0.21 threshold, p=0.96, r=0.35, f1=0.51\n",
      "at 0.22 threshold, p=0.96, r=0.38, f1=0.54\n",
      "at 0.23 threshold, p=0.96, r=0.40, f1=0.56\n",
      "at 0.24 threshold, p=0.96, r=0.41, f1=0.57\n",
      "at 0.25 threshold, p=0.96, r=0.42, f1=0.58\n",
      "at 0.26 threshold, p=0.96, r=0.43, f1=0.59\n",
      "at 0.27 threshold, p=0.96, r=0.44, f1=0.61\n",
      "at 0.28 threshold, p=0.95, r=0.45, f1=0.62\n",
      "at 0.29 threshold, p=0.95, r=0.47, f1=0.63\n",
      "at 0.30 threshold, p=0.95, r=0.48, f1=0.64\n",
      "at 0.31 threshold, p=0.95, r=0.49, f1=0.65\n",
      "at 0.32 threshold, p=0.95, r=0.50, f1=0.65\n",
      "at 0.33 threshold, p=0.95, r=0.51, f1=0.66\n",
      "at 0.34 threshold, p=0.95, r=0.52, f1=0.67\n",
      "at 0.35 threshold, p=0.95, r=0.54, f1=0.68\n",
      "at 0.36 threshold, p=0.95, r=0.55, f1=0.69\n",
      "at 0.37 threshold, p=0.95, r=0.56, f1=0.70\n",
      "at 0.38 threshold, p=0.95, r=0.57, f1=0.71\n",
      "at 0.39 threshold, p=0.95, r=0.58, f1=0.72\n",
      "at 0.40 threshold, p=0.94, r=0.59, f1=0.73\n",
      "at 0.41 threshold, p=0.94, r=0.60, f1=0.73\n",
      "at 0.42 threshold, p=0.94, r=0.61, f1=0.74\n",
      "at 0.43 threshold, p=0.94, r=0.62, f1=0.75\n",
      "at 0.44 threshold, p=0.94, r=0.63, f1=0.75\n",
      "at 0.45 threshold, p=0.94, r=0.64, f1=0.76\n",
      "at 0.46 threshold, p=0.94, r=0.65, f1=0.77\n",
      "at 0.47 threshold, p=0.93, r=0.66, f1=0.77\n",
      "at 0.48 threshold, p=0.93, r=0.67, f1=0.78\n",
      "at 0.49 threshold, p=0.93, r=0.68, f1=0.79\n",
      "at 0.50 threshold, p=0.93, r=0.69, f1=0.79\n",
      "at 0.51 threshold, p=0.93, r=0.70, f1=0.80\n",
      "at 0.52 threshold, p=0.93, r=0.70, f1=0.80\n",
      "at 0.53 threshold, p=0.93, r=0.71, f1=0.81\n",
      "at 0.54 threshold, p=0.93, r=0.72, f1=0.81\n",
      "at 0.55 threshold, p=0.93, r=0.73, f1=0.82\n",
      "at 0.56 threshold, p=0.92, r=0.74, f1=0.82\n",
      "at 0.57 threshold, p=0.92, r=0.75, f1=0.82\n",
      "at 0.58 threshold, p=0.92, r=0.76, f1=0.83\n",
      "at 0.59 threshold, p=0.92, r=0.77, f1=0.84\n"
     ]
    }
   ],
   "source": [
    "# for negative class (clean commits)\n",
    "\n",
    "\n",
    "\n",
    "for b in bound:\n",
    "    pred = [1 if prob >= b else 0 for prob in gnn_prd]\n",
    "    p, r, f1, _ = precision_recall_fscore_support(y_true, pred, average='binary', pos_label=0)\n",
    "    precisions.append(p)\n",
    "    recalls.append(r)\n",
    "    print('at {:3.2f} threshold, p={:.2f}, r={:.2f}, f1={:.2f}'.format(b, p, r, f1))"
   ]
  },
  {
   "cell_type": "code",
   "execution_count": 172,
   "id": "c1cfd92a",
   "metadata": {},
   "outputs": [
    {
     "data": {
      "image/png": "[encoded data removed]",
      "text/plain": [
       "<Figure size 640x480 with 1 Axes>"
      ]
     },
     "metadata": {},
     "output_type": "display_data"
    }
   ],
   "source": [
    "plt.clf()\n",
    "plt.title('Precision Recall Plot')\n",
    "plt.plot(recalls, precisions, 'black', label='AUC = %0.2f' % metrics.auc(recalls, precisions))\n",
    "plt.legend(loc='lower left')\n",
    "# plt.plot([0, 1], [0, 1], 'r--')\n",
    "# plt.xlim([0, 1])\n",
    "# plt.ylim([0, 1])\n",
    "plt.ylabel('Precision')\n",
    "plt.xlabel('Recall')\n",
    "plt.savefig(\"figures/apache_gnn_pr.png\", dpi=500)"
   ]
  },
  {
   "cell_type": "code",
   "execution_count": null,
   "id": "7192a434",
   "metadata": {},
   "outputs": [],
   "source": []
  },
  {
   "cell_type": "code",
   "execution_count": null,
   "id": "881e612b",
   "metadata": {},
   "outputs": [],
   "source": []
  },
  {
   "cell_type": "code",
   "execution_count": null,
   "id": "94352971",
   "metadata": {},
   "outputs": [],
   "source": []
  },
  {
   "cell_type": "markdown",
   "id": "37d33a0f",
   "metadata": {},
   "source": [
    "## Apache / JITLine"
   ]
  },
  {
   "cell_type": "code",
   "execution_count": 243,
   "id": "d6db7e13",
   "metadata": {},
   "outputs": [],
   "source": [
    "y_true = apache_prd[\"actual\"]"
   ]
  },
  {
   "cell_type": "code",
   "execution_count": 244,
   "id": "48fcbc63",
   "metadata": {},
   "outputs": [
    {
     "data": {
      "text/plain": [
       "0       0.646667\n",
       "1       0.203333\n",
       "2       0.836667\n",
       "3       0.630000\n",
       "4       0.050000\n",
       "          ...   \n",
       "7510    0.603333\n",
       "7511    0.506667\n",
       "7512    0.876667\n",
       "7513    0.040000\n",
       "7514    0.890000\n",
       "Name: jitline_prob, Length: 7515, dtype: float64"
      ]
     },
     "execution_count": 244,
     "metadata": {},
     "output_type": "execute_result"
    }
   ],
   "source": [
    "gnn_prd = apache_prd[\"jitline_prob\"]\n",
    "gnn_prd"
   ]
  },
  {
   "cell_type": "code",
   "execution_count": 245,
   "id": "73c64b2b",
   "metadata": {},
   "outputs": [
    {
     "name": "stdout",
     "output_type": "stream",
     "text": [
      "at 0.20 threshold, matthews corrcoef=0.23\n",
      "at 0.21 threshold, matthews corrcoef=0.24\n",
      "at 0.22 threshold, matthews corrcoef=0.24\n",
      "at 0.23 threshold, matthews corrcoef=0.25\n",
      "at 0.24 threshold, matthews corrcoef=0.26\n",
      "at 0.25 threshold, matthews corrcoef=0.26\n",
      "at 0.26 threshold, matthews corrcoef=0.26\n",
      "at 0.27 threshold, matthews corrcoef=0.27\n",
      "at 0.28 threshold, matthews corrcoef=0.28\n",
      "at 0.29 threshold, matthews corrcoef=0.28\n",
      "at 0.30 threshold, matthews corrcoef=0.29\n",
      "at 0.31 threshold, matthews corrcoef=0.29\n",
      "at 0.32 threshold, matthews corrcoef=0.30\n",
      "at 0.33 threshold, matthews corrcoef=0.30\n",
      "at 0.34 threshold, matthews corrcoef=0.31\n",
      "at 0.35 threshold, matthews corrcoef=0.31\n",
      "at 0.36 threshold, matthews corrcoef=0.32\n",
      "at 0.37 threshold, matthews corrcoef=0.32\n",
      "at 0.38 threshold, matthews corrcoef=0.33\n",
      "at 0.39 threshold, matthews corrcoef=0.34\n",
      "at 0.40 threshold, matthews corrcoef=0.34\n",
      "at 0.41 threshold, matthews corrcoef=0.34\n",
      "at 0.42 threshold, matthews corrcoef=0.34\n",
      "at 0.43 threshold, matthews corrcoef=0.34\n",
      "at 0.44 threshold, matthews corrcoef=0.34\n",
      "at 0.45 threshold, matthews corrcoef=0.35\n",
      "at 0.46 threshold, matthews corrcoef=0.35\n",
      "at 0.47 threshold, matthews corrcoef=0.35\n",
      "at 0.48 threshold, matthews corrcoef=0.35\n",
      "at 0.49 threshold, matthews corrcoef=0.36\n",
      "at 0.50 threshold, matthews corrcoef=0.36\n",
      "at 0.51 threshold, matthews corrcoef=0.36\n",
      "at 0.52 threshold, matthews corrcoef=0.37\n",
      "at 0.53 threshold, matthews corrcoef=0.37\n",
      "at 0.54 threshold, matthews corrcoef=0.37\n",
      "at 0.55 threshold, matthews corrcoef=0.38\n",
      "at 0.56 threshold, matthews corrcoef=0.38\n",
      "at 0.57 threshold, matthews corrcoef=0.38\n",
      "at 0.58 threshold, matthews corrcoef=0.39\n",
      "at 0.59 threshold, matthews corrcoef=0.39\n"
     ]
    }
   ],
   "source": [
    "from sklearn.metrics import matthews_corrcoef\n",
    "\n",
    "for b in bound:\n",
    "    pred = [1 if prob >= b else 0 for prob in gnn_prd]\n",
    "    print('at {:3.2f} threshold, matthews corrcoef={:.2f}'.format(b, matthews_corrcoef(y_true, pred)))"
   ]
  },
  {
   "cell_type": "code",
   "execution_count": 246,
   "id": "bc41157f",
   "metadata": {},
   "outputs": [
    {
     "data": {
      "text/plain": [
       "0.811151526945194"
      ]
     },
     "execution_count": 246,
     "metadata": {},
     "output_type": "execute_result"
    }
   ],
   "source": [
    "roc_auc_score(y_true, gnn_prd)"
   ]
  },
  {
   "cell_type": "code",
   "execution_count": 247,
   "id": "abd5583e",
   "metadata": {},
   "outputs": [
    {
     "name": "stdout",
     "output_type": "stream",
     "text": [
      "at 0.20 threshold, p=0.24, r=0.97, f1=0.39\n",
      "at 0.21 threshold, p=0.25, r=0.96, f1=0.39\n",
      "at 0.22 threshold, p=0.25, r=0.96, f1=0.39\n",
      "at 0.23 threshold, p=0.25, r=0.95, f1=0.40\n",
      "at 0.24 threshold, p=0.26, r=0.95, f1=0.40\n",
      "at 0.25 threshold, p=0.26, r=0.94, f1=0.41\n",
      "at 0.26 threshold, p=0.26, r=0.93, f1=0.41\n",
      "at 0.27 threshold, p=0.27, r=0.93, f1=0.41\n",
      "at 0.28 threshold, p=0.27, r=0.93, f1=0.42\n",
      "at 0.29 threshold, p=0.27, r=0.93, f1=0.42\n",
      "at 0.30 threshold, p=0.28, r=0.92, f1=0.43\n",
      "at 0.31 threshold, p=0.28, r=0.91, f1=0.43\n",
      "at 0.32 threshold, p=0.28, r=0.91, f1=0.43\n",
      "at 0.33 threshold, p=0.29, r=0.91, f1=0.44\n",
      "at 0.34 threshold, p=0.29, r=0.90, f1=0.44\n",
      "at 0.35 threshold, p=0.30, r=0.90, f1=0.45\n",
      "at 0.36 threshold, p=0.30, r=0.89, f1=0.45\n",
      "at 0.37 threshold, p=0.30, r=0.89, f1=0.45\n",
      "at 0.38 threshold, p=0.31, r=0.88, f1=0.46\n",
      "at 0.39 threshold, p=0.31, r=0.88, f1=0.46\n",
      "at 0.40 threshold, p=0.32, r=0.88, f1=0.47\n",
      "at 0.41 threshold, p=0.32, r=0.87, f1=0.47\n",
      "at 0.42 threshold, p=0.32, r=0.86, f1=0.47\n",
      "at 0.43 threshold, p=0.32, r=0.85, f1=0.47\n",
      "at 0.44 threshold, p=0.33, r=0.84, f1=0.47\n",
      "at 0.45 threshold, p=0.33, r=0.84, f1=0.48\n",
      "at 0.46 threshold, p=0.34, r=0.83, f1=0.48\n",
      "at 0.47 threshold, p=0.34, r=0.82, f1=0.48\n",
      "at 0.48 threshold, p=0.34, r=0.82, f1=0.48\n",
      "at 0.49 threshold, p=0.35, r=0.81, f1=0.49\n",
      "at 0.50 threshold, p=0.35, r=0.80, f1=0.49\n",
      "at 0.51 threshold, p=0.36, r=0.80, f1=0.49\n",
      "at 0.52 threshold, p=0.36, r=0.79, f1=0.50\n",
      "at 0.53 threshold, p=0.36, r=0.79, f1=0.50\n",
      "at 0.54 threshold, p=0.37, r=0.78, f1=0.50\n",
      "at 0.55 threshold, p=0.38, r=0.78, f1=0.51\n",
      "at 0.56 threshold, p=0.38, r=0.77, f1=0.51\n",
      "at 0.57 threshold, p=0.38, r=0.76, f1=0.51\n",
      "at 0.58 threshold, p=0.39, r=0.76, f1=0.52\n",
      "at 0.59 threshold, p=0.39, r=0.75, f1=0.52\n"
     ]
    }
   ],
   "source": [
    "precisions = []\n",
    "recalls = []\n",
    "\n",
    "for b in bound:\n",
    "    pred = [1 if prob >= b else 0 for prob in gnn_prd]\n",
    "    p, r, f1, _ = precision_recall_fscore_support(y_true, pred, average='binary')\n",
    "    precisions.append(p)\n",
    "    recalls.append(r)\n",
    "    print('at {:3.2f} threshold, p={:.2f}, r={:.2f}, f1={:.2f}'.format(b, p, r, f1))"
   ]
  },
  {
   "cell_type": "code",
   "execution_count": 248,
   "id": "6cf20485",
   "metadata": {},
   "outputs": [
    {
     "name": "stdout",
     "output_type": "stream",
     "text": [
      "at 0.20 threshold, p=0.97, r=0.28, f1=0.44\n",
      "at 0.21 threshold, p=0.97, r=0.31, f1=0.46\n",
      "at 0.22 threshold, p=0.97, r=0.32, f1=0.48\n",
      "at 0.23 threshold, p=0.97, r=0.34, f1=0.50\n",
      "at 0.24 threshold, p=0.96, r=0.35, f1=0.52\n",
      "at 0.25 threshold, p=0.96, r=0.37, f1=0.53\n",
      "at 0.26 threshold, p=0.96, r=0.38, f1=0.54\n",
      "at 0.27 threshold, p=0.96, r=0.39, f1=0.56\n",
      "at 0.28 threshold, p=0.96, r=0.41, f1=0.57\n",
      "at 0.29 threshold, p=0.96, r=0.42, f1=0.59\n",
      "at 0.30 threshold, p=0.96, r=0.43, f1=0.60\n",
      "at 0.31 threshold, p=0.96, r=0.45, f1=0.61\n",
      "at 0.32 threshold, p=0.96, r=0.46, f1=0.62\n",
      "at 0.33 threshold, p=0.95, r=0.47, f1=0.63\n",
      "at 0.34 threshold, p=0.96, r=0.49, f1=0.64\n",
      "at 0.35 threshold, p=0.95, r=0.50, f1=0.66\n",
      "at 0.36 threshold, p=0.95, r=0.51, f1=0.67\n",
      "at 0.37 threshold, p=0.95, r=0.52, f1=0.67\n",
      "at 0.38 threshold, p=0.95, r=0.53, f1=0.68\n",
      "at 0.39 threshold, p=0.95, r=0.55, f1=0.69\n",
      "at 0.40 threshold, p=0.95, r=0.56, f1=0.70\n",
      "at 0.41 threshold, p=0.95, r=0.57, f1=0.71\n",
      "at 0.42 threshold, p=0.95, r=0.57, f1=0.71\n",
      "at 0.43 threshold, p=0.94, r=0.58, f1=0.72\n",
      "at 0.44 threshold, p=0.94, r=0.59, f1=0.73\n",
      "at 0.45 threshold, p=0.94, r=0.60, f1=0.73\n",
      "at 0.46 threshold, p=0.94, r=0.61, f1=0.74\n",
      "at 0.47 threshold, p=0.94, r=0.62, f1=0.75\n",
      "at 0.48 threshold, p=0.94, r=0.63, f1=0.75\n",
      "at 0.49 threshold, p=0.93, r=0.64, f1=0.76\n",
      "at 0.50 threshold, p=0.93, r=0.65, f1=0.77\n",
      "at 0.51 threshold, p=0.93, r=0.66, f1=0.77\n",
      "at 0.52 threshold, p=0.93, r=0.67, f1=0.78\n",
      "at 0.53 threshold, p=0.93, r=0.68, f1=0.78\n",
      "at 0.54 threshold, p=0.93, r=0.69, f1=0.79\n",
      "at 0.55 threshold, p=0.93, r=0.69, f1=0.80\n",
      "at 0.56 threshold, p=0.93, r=0.70, f1=0.80\n",
      "at 0.57 threshold, p=0.93, r=0.71, f1=0.81\n",
      "at 0.58 threshold, p=0.93, r=0.72, f1=0.81\n",
      "at 0.59 threshold, p=0.92, r=0.73, f1=0.82\n"
     ]
    }
   ],
   "source": [
    "# for negative class (clean commits)\n",
    "\n",
    "\n",
    "\n",
    "for b in bound:\n",
    "    pred = [1 if prob >= b else 0 for prob in gnn_prd]\n",
    "    p, r, f1, _ = precision_recall_fscore_support(y_true, pred, average='binary', pos_label=0)\n",
    "    precisions.append(p)\n",
    "    recalls.append(r)\n",
    "    print('at {:3.2f} threshold, p={:.2f}, r={:.2f}, f1={:.2f}'.format(b, p, r, f1))"
   ]
  },
  {
   "cell_type": "code",
   "execution_count": 179,
   "id": "6f070676",
   "metadata": {},
   "outputs": [
    {
     "data": {
      "image/png": "[encoded data removed]",
      "text/plain": [
       "<Figure size 640x480 with 1 Axes>"
      ]
     },
     "metadata": {},
     "output_type": "display_data"
    }
   ],
   "source": [
    "plt.clf()\n",
    "plt.title('Precision Recall Plot')\n",
    "plt.plot(recalls, precisions, 'black', label='AUC = %0.2f' % metrics.auc(recalls, precisions))\n",
    "plt.legend(loc='lower left')\n",
    "# plt.plot([0, 1], [0, 1], 'r--')\n",
    "# plt.xlim([0, 1])\n",
    "# plt.ylim([0, 1])\n",
    "plt.ylabel('Precision')\n",
    "plt.xlabel('Recall')\n",
    "plt.savefig(\"figures/apache_line_pr.png\", dpi=500)"
   ]
  },
  {
   "cell_type": "code",
   "execution_count": null,
   "id": "445a76ef",
   "metadata": {},
   "outputs": [],
   "source": []
  },
  {
   "cell_type": "code",
   "execution_count": null,
   "id": "27e12158",
   "metadata": {},
   "outputs": [],
   "source": []
  },
  {
   "cell_type": "code",
   "execution_count": null,
   "id": "21560717",
   "metadata": {},
   "outputs": [],
   "source": []
  },
  {
   "cell_type": "markdown",
   "id": "b46a19b1",
   "metadata": {},
   "source": [
    "## Apache / Baseline"
   ]
  },
  {
   "cell_type": "code",
   "execution_count": 249,
   "id": "47c3b760",
   "metadata": {},
   "outputs": [],
   "source": [
    "y_true = apache_prd[\"actual\"]"
   ]
  },
  {
   "cell_type": "code",
   "execution_count": 250,
   "id": "286fe4b9",
   "metadata": {},
   "outputs": [
    {
     "data": {
      "text/plain": [
       "0       0.556848\n",
       "1       0.074594\n",
       "2       0.780543\n",
       "3       0.543089\n",
       "4       0.050943\n",
       "          ...   \n",
       "7510    0.375504\n",
       "7511    0.307733\n",
       "7512    0.837267\n",
       "7513    0.238006\n",
       "7514    0.968710\n",
       "Name: base_prob, Length: 7515, dtype: float64"
      ]
     },
     "execution_count": 250,
     "metadata": {},
     "output_type": "execute_result"
    }
   ],
   "source": [
    "gnn_prd = apache_prd[\"base_prob\"]\n",
    "gnn_prd"
   ]
  },
  {
   "cell_type": "code",
   "execution_count": 252,
   "id": "37c3f984",
   "metadata": {},
   "outputs": [
    {
     "name": "stdout",
     "output_type": "stream",
     "text": [
      "at 0.20 threshold, matthews corrcoef=0.17\n",
      "at 0.21 threshold, matthews corrcoef=0.18\n",
      "at 0.22 threshold, matthews corrcoef=0.20\n",
      "at 0.23 threshold, matthews corrcoef=0.21\n",
      "at 0.24 threshold, matthews corrcoef=0.22\n",
      "at 0.25 threshold, matthews corrcoef=0.23\n",
      "at 0.26 threshold, matthews corrcoef=0.24\n",
      "at 0.27 threshold, matthews corrcoef=0.25\n",
      "at 0.28 threshold, matthews corrcoef=0.27\n",
      "at 0.29 threshold, matthews corrcoef=0.27\n",
      "at 0.30 threshold, matthews corrcoef=0.28\n",
      "at 0.31 threshold, matthews corrcoef=0.29\n",
      "at 0.32 threshold, matthews corrcoef=0.30\n",
      "at 0.33 threshold, matthews corrcoef=0.31\n",
      "at 0.34 threshold, matthews corrcoef=0.31\n",
      "at 0.35 threshold, matthews corrcoef=0.32\n",
      "at 0.36 threshold, matthews corrcoef=0.32\n",
      "at 0.37 threshold, matthews corrcoef=0.33\n",
      "at 0.38 threshold, matthews corrcoef=0.33\n",
      "at 0.39 threshold, matthews corrcoef=0.34\n",
      "at 0.40 threshold, matthews corrcoef=0.34\n",
      "at 0.41 threshold, matthews corrcoef=0.35\n",
      "at 0.42 threshold, matthews corrcoef=0.35\n",
      "at 0.43 threshold, matthews corrcoef=0.35\n",
      "at 0.44 threshold, matthews corrcoef=0.36\n",
      "at 0.45 threshold, matthews corrcoef=0.36\n",
      "at 0.46 threshold, matthews corrcoef=0.36\n",
      "at 0.47 threshold, matthews corrcoef=0.36\n",
      "at 0.48 threshold, matthews corrcoef=0.36\n",
      "at 0.49 threshold, matthews corrcoef=0.36\n",
      "at 0.50 threshold, matthews corrcoef=0.36\n",
      "at 0.51 threshold, matthews corrcoef=0.36\n",
      "at 0.52 threshold, matthews corrcoef=0.36\n",
      "at 0.53 threshold, matthews corrcoef=0.36\n",
      "at 0.54 threshold, matthews corrcoef=0.36\n",
      "at 0.55 threshold, matthews corrcoef=0.36\n",
      "at 0.56 threshold, matthews corrcoef=0.36\n",
      "at 0.57 threshold, matthews corrcoef=0.36\n",
      "at 0.58 threshold, matthews corrcoef=0.37\n",
      "at 0.59 threshold, matthews corrcoef=0.37\n"
     ]
    }
   ],
   "source": [
    "from sklearn.metrics import matthews_corrcoef\n",
    "\n",
    "for b in bound:\n",
    "    pred = [1 if prob >= b else 0 for prob in gnn_prd]\n",
    "    print('at {:3.2f} threshold, matthews corrcoef={:.2f}'.format(b, matthews_corrcoef(y_true, pred)))"
   ]
  },
  {
   "cell_type": "code",
   "execution_count": 253,
   "id": "bd6eb77f",
   "metadata": {},
   "outputs": [
    {
     "data": {
      "text/plain": [
       "0.7971320884868874"
      ]
     },
     "execution_count": 253,
     "metadata": {},
     "output_type": "execute_result"
    }
   ],
   "source": [
    "roc_auc_score(y_true, gnn_prd)"
   ]
  },
  {
   "cell_type": "code",
   "execution_count": 257,
   "id": "fca99cc5",
   "metadata": {},
   "outputs": [
    {
     "name": "stdout",
     "output_type": "stream",
     "text": [
      "at 0.20 threshold, p=0.22, r=0.99, f1=0.35\n",
      "at 0.21 threshold, p=0.22, r=0.99, f1=0.36\n",
      "at 0.22 threshold, p=0.23, r=0.98, f1=0.37\n",
      "at 0.23 threshold, p=0.23, r=0.98, f1=0.37\n",
      "at 0.24 threshold, p=0.24, r=0.97, f1=0.38\n",
      "at 0.25 threshold, p=0.24, r=0.96, f1=0.39\n",
      "at 0.26 threshold, p=0.25, r=0.95, f1=0.39\n",
      "at 0.27 threshold, p=0.26, r=0.94, f1=0.40\n",
      "at 0.28 threshold, p=0.26, r=0.93, f1=0.41\n",
      "at 0.29 threshold, p=0.27, r=0.92, f1=0.42\n",
      "at 0.30 threshold, p=0.27, r=0.91, f1=0.42\n",
      "at 0.31 threshold, p=0.28, r=0.91, f1=0.43\n",
      "at 0.32 threshold, p=0.29, r=0.90, f1=0.43\n",
      "at 0.33 threshold, p=0.29, r=0.89, f1=0.44\n",
      "at 0.34 threshold, p=0.30, r=0.89, f1=0.45\n",
      "at 0.35 threshold, p=0.30, r=0.88, f1=0.45\n",
      "at 0.36 threshold, p=0.31, r=0.87, f1=0.45\n",
      "at 0.37 threshold, p=0.31, r=0.87, f1=0.46\n",
      "at 0.38 threshold, p=0.32, r=0.86, f1=0.46\n",
      "at 0.39 threshold, p=0.32, r=0.85, f1=0.47\n",
      "at 0.40 threshold, p=0.33, r=0.85, f1=0.47\n",
      "at 0.41 threshold, p=0.33, r=0.84, f1=0.48\n",
      "at 0.42 threshold, p=0.34, r=0.83, f1=0.48\n",
      "at 0.43 threshold, p=0.34, r=0.82, f1=0.48\n",
      "at 0.44 threshold, p=0.35, r=0.82, f1=0.49\n",
      "at 0.45 threshold, p=0.35, r=0.80, f1=0.49\n",
      "at 0.46 threshold, p=0.35, r=0.80, f1=0.49\n",
      "at 0.47 threshold, p=0.35, r=0.78, f1=0.49\n",
      "at 0.48 threshold, p=0.36, r=0.78, f1=0.49\n",
      "at 0.49 threshold, p=0.36, r=0.77, f1=0.49\n",
      "at 0.50 threshold, p=0.36, r=0.76, f1=0.49\n",
      "at 0.51 threshold, p=0.37, r=0.75, f1=0.49\n",
      "at 0.52 threshold, p=0.37, r=0.74, f1=0.49\n",
      "at 0.53 threshold, p=0.37, r=0.73, f1=0.49\n",
      "at 0.54 threshold, p=0.38, r=0.73, f1=0.49\n",
      "at 0.55 threshold, p=0.38, r=0.72, f1=0.50\n",
      "at 0.56 threshold, p=0.38, r=0.71, f1=0.50\n",
      "at 0.57 threshold, p=0.39, r=0.70, f1=0.50\n",
      "at 0.58 threshold, p=0.39, r=0.70, f1=0.50\n",
      "at 0.59 threshold, p=0.40, r=0.69, f1=0.50\n"
     ]
    }
   ],
   "source": [
    "precisions = []\n",
    "recalls = []\n",
    "\n",
    "for b in bound:\n",
    "    pred = [1 if prob >= b else 0 for prob in gnn_prd]\n",
    "    p, r, f1, _ = precision_recall_fscore_support(y_true, pred, average='binary')\n",
    "    precisions.append(p)\n",
    "    recalls.append(r)\n",
    "    print('at {:3.2f} threshold, p={:.2f}, r={:.2f}, f1={:.2f}'.format(b, p, r, f1))"
   ]
  },
  {
   "cell_type": "code",
   "execution_count": 255,
   "id": "2de99bb4",
   "metadata": {},
   "outputs": [
    {
     "name": "stdout",
     "output_type": "stream",
     "text": [
      "at 0.20 threshold, p=0.98, r=0.15, f1=0.26\n",
      "at 0.21 threshold, p=0.98, r=0.18, f1=0.30\n",
      "at 0.22 threshold, p=0.98, r=0.20, f1=0.34\n",
      "at 0.23 threshold, p=0.98, r=0.23, f1=0.38\n",
      "at 0.24 threshold, p=0.97, r=0.27, f1=0.42\n",
      "at 0.25 threshold, p=0.97, r=0.30, f1=0.46\n",
      "at 0.26 threshold, p=0.96, r=0.33, f1=0.49\n",
      "at 0.27 threshold, p=0.96, r=0.36, f1=0.52\n",
      "at 0.28 threshold, p=0.96, r=0.38, f1=0.55\n",
      "at 0.29 threshold, p=0.96, r=0.41, f1=0.57\n",
      "at 0.30 threshold, p=0.95, r=0.43, f1=0.59\n",
      "at 0.31 threshold, p=0.95, r=0.45, f1=0.61\n",
      "at 0.32 threshold, p=0.95, r=0.47, f1=0.63\n",
      "at 0.33 threshold, p=0.95, r=0.49, f1=0.65\n",
      "at 0.34 threshold, p=0.95, r=0.50, f1=0.66\n",
      "at 0.35 threshold, p=0.95, r=0.52, f1=0.67\n",
      "at 0.36 threshold, p=0.95, r=0.53, f1=0.68\n",
      "at 0.37 threshold, p=0.95, r=0.55, f1=0.70\n",
      "at 0.38 threshold, p=0.94, r=0.56, f1=0.71\n",
      "at 0.39 threshold, p=0.94, r=0.58, f1=0.72\n",
      "at 0.40 threshold, p=0.94, r=0.59, f1=0.73\n",
      "at 0.41 threshold, p=0.94, r=0.60, f1=0.73\n",
      "at 0.42 threshold, p=0.94, r=0.61, f1=0.74\n",
      "at 0.43 threshold, p=0.94, r=0.63, f1=0.75\n",
      "at 0.44 threshold, p=0.94, r=0.64, f1=0.76\n",
      "at 0.45 threshold, p=0.93, r=0.65, f1=0.76\n",
      "at 0.46 threshold, p=0.93, r=0.66, f1=0.77\n",
      "at 0.47 threshold, p=0.93, r=0.66, f1=0.77\n",
      "at 0.48 threshold, p=0.93, r=0.67, f1=0.78\n",
      "at 0.49 threshold, p=0.93, r=0.68, f1=0.78\n",
      "at 0.50 threshold, p=0.92, r=0.69, f1=0.79\n",
      "at 0.51 threshold, p=0.92, r=0.69, f1=0.79\n",
      "at 0.52 threshold, p=0.92, r=0.70, f1=0.80\n",
      "at 0.53 threshold, p=0.92, r=0.71, f1=0.80\n",
      "at 0.54 threshold, p=0.92, r=0.72, f1=0.80\n",
      "at 0.55 threshold, p=0.92, r=0.72, f1=0.81\n",
      "at 0.56 threshold, p=0.91, r=0.73, f1=0.81\n",
      "at 0.57 threshold, p=0.91, r=0.74, f1=0.82\n",
      "at 0.58 threshold, p=0.91, r=0.74, f1=0.82\n",
      "at 0.59 threshold, p=0.91, r=0.75, f1=0.82\n"
     ]
    }
   ],
   "source": [
    "# for negative class (clean commits)\n",
    "\n",
    "\n",
    "\n",
    "for b in bound:\n",
    "    pred = [1 if prob >= b else 0 for prob in gnn_prd]\n",
    "    p, r, f1, _ = precision_recall_fscore_support(y_true, pred, average='binary', pos_label=0)\n",
    "    precisions.append(p)\n",
    "    recalls.append(r)\n",
    "    print('at {:3.2f} threshold, p={:.2f}, r={:.2f}, f1={:.2f}'.format(b, p, r, f1))"
   ]
  },
  {
   "cell_type": "code",
   "execution_count": 258,
   "id": "b05df7c7",
   "metadata": {},
   "outputs": [
    {
     "data": {
      "image/png": "[encoded data removed]",
      "text/plain": [
       "<Figure size 640x480 with 1 Axes>"
      ]
     },
     "metadata": {},
     "output_type": "display_data"
    }
   ],
   "source": [
    "plt.clf()\n",
    "plt.title('Precision Recall Plot')\n",
    "plt.plot(recalls, precisions, 'black', label='AUC = %0.2f' % metrics.auc(recalls, precisions))\n",
    "plt.legend(loc='lower left')\n",
    "# plt.plot([0, 1], [0, 1], 'r--')\n",
    "# plt.xlim([0, 1])\n",
    "# plt.ylim([0, 1])\n",
    "plt.ylabel('Precision')\n",
    "plt.xlabel('Recall')\n",
    "plt.savefig(\"figures/apache_base_pr.png\", dpi=500)"
   ]
  },
  {
   "cell_type": "code",
   "execution_count": null,
   "id": "dc4af46c",
   "metadata": {},
   "outputs": [],
   "source": []
  },
  {
   "cell_type": "code",
   "execution_count": null,
   "id": "d0dfe026",
   "metadata": {},
   "outputs": [],
   "source": []
  },
  {
   "cell_type": "code",
   "execution_count": null,
   "id": "5bebeb02",
   "metadata": {},
   "outputs": [],
   "source": []
  },
  {
   "cell_type": "code",
   "execution_count": null,
   "id": "907efe60",
   "metadata": {},
   "outputs": [],
   "source": []
  },
  {
   "cell_type": "code",
   "execution_count": null,
   "id": "4c701e4f",
   "metadata": {},
   "outputs": [],
   "source": []
  },
  {
   "cell_type": "code",
   "execution_count": null,
   "id": "65f6b9f8",
   "metadata": {},
   "outputs": [],
   "source": []
  },
  {
   "cell_type": "markdown",
   "id": "881d71c1",
   "metadata": {},
   "source": [
    "## Openstack / JITGNN"
   ]
  },
  {
   "cell_type": "code",
   "execution_count": 259,
   "id": "8f8f8f4b",
   "metadata": {},
   "outputs": [],
   "source": [
    "y_true = open_prd[\"actual\"]"
   ]
  },
  {
   "cell_type": "code",
   "execution_count": 260,
   "id": "b6197b13",
   "metadata": {},
   "outputs": [
    {
     "data": {
      "text/plain": [
       "0       0.051450\n",
       "1       0.228226\n",
       "2       0.039715\n",
       "3       0.145492\n",
       "4       0.032898\n",
       "          ...   \n",
       "1027    0.550119\n",
       "1028    0.114543\n",
       "1029    0.040225\n",
       "1030    0.055959\n",
       "1031    0.246192\n",
       "Name: jitgnn_prob, Length: 1032, dtype: float64"
      ]
     },
     "execution_count": 260,
     "metadata": {},
     "output_type": "execute_result"
    }
   ],
   "source": [
    "gnn_prd = open_prd[\"jitgnn_prob\"]\n",
    "gnn_prd"
   ]
  },
  {
   "cell_type": "code",
   "execution_count": 261,
   "id": "e16a9331",
   "metadata": {},
   "outputs": [
    {
     "name": "stdout",
     "output_type": "stream",
     "text": [
      "at 0.20 threshold, matthews corrcoef=0.35\n",
      "at 0.21 threshold, matthews corrcoef=0.37\n",
      "at 0.22 threshold, matthews corrcoef=0.38\n",
      "at 0.23 threshold, matthews corrcoef=0.37\n",
      "at 0.24 threshold, matthews corrcoef=0.35\n",
      "at 0.25 threshold, matthews corrcoef=0.35\n",
      "at 0.26 threshold, matthews corrcoef=0.35\n",
      "at 0.27 threshold, matthews corrcoef=0.36\n",
      "at 0.28 threshold, matthews corrcoef=0.35\n",
      "at 0.29 threshold, matthews corrcoef=0.34\n",
      "at 0.30 threshold, matthews corrcoef=0.35\n",
      "at 0.31 threshold, matthews corrcoef=0.35\n",
      "at 0.32 threshold, matthews corrcoef=0.34\n",
      "at 0.33 threshold, matthews corrcoef=0.32\n",
      "at 0.34 threshold, matthews corrcoef=0.31\n",
      "at 0.35 threshold, matthews corrcoef=0.31\n",
      "at 0.36 threshold, matthews corrcoef=0.31\n",
      "at 0.37 threshold, matthews corrcoef=0.29\n",
      "at 0.38 threshold, matthews corrcoef=0.29\n",
      "at 0.39 threshold, matthews corrcoef=0.28\n",
      "at 0.40 threshold, matthews corrcoef=0.26\n",
      "at 0.41 threshold, matthews corrcoef=0.25\n",
      "at 0.42 threshold, matthews corrcoef=0.25\n",
      "at 0.43 threshold, matthews corrcoef=0.25\n",
      "at 0.44 threshold, matthews corrcoef=0.25\n",
      "at 0.45 threshold, matthews corrcoef=0.25\n",
      "at 0.46 threshold, matthews corrcoef=0.25\n",
      "at 0.47 threshold, matthews corrcoef=0.25\n",
      "at 0.48 threshold, matthews corrcoef=0.26\n",
      "at 0.49 threshold, matthews corrcoef=0.26\n",
      "at 0.50 threshold, matthews corrcoef=0.26\n",
      "at 0.51 threshold, matthews corrcoef=0.25\n",
      "at 0.52 threshold, matthews corrcoef=0.26\n",
      "at 0.53 threshold, matthews corrcoef=0.26\n",
      "at 0.54 threshold, matthews corrcoef=0.27\n",
      "at 0.55 threshold, matthews corrcoef=0.25\n",
      "at 0.56 threshold, matthews corrcoef=0.24\n",
      "at 0.57 threshold, matthews corrcoef=0.25\n",
      "at 0.58 threshold, matthews corrcoef=0.25\n",
      "at 0.59 threshold, matthews corrcoef=0.24\n"
     ]
    }
   ],
   "source": [
    "from sklearn.metrics import matthews_corrcoef\n",
    "\n",
    "for b in bound:\n",
    "    pred = [1 if prob >= b else 0 for prob in gnn_prd]\n",
    "    print('at {:3.2f} threshold, matthews corrcoef={:.2f}'.format(b, matthews_corrcoef(y_true, pred)))"
   ]
  },
  {
   "cell_type": "code",
   "execution_count": 262,
   "id": "e44fce2d",
   "metadata": {},
   "outputs": [
    {
     "data": {
      "text/plain": [
       "0.7904489727667273"
      ]
     },
     "execution_count": 262,
     "metadata": {},
     "output_type": "execute_result"
    }
   ],
   "source": [
    "roc_auc_score(y_true, gnn_prd)"
   ]
  },
  {
   "cell_type": "code",
   "execution_count": 263,
   "id": "6fe82e07",
   "metadata": {},
   "outputs": [
    {
     "name": "stdout",
     "output_type": "stream",
     "text": [
      "at 0.20 threshold, p=0.34, r=0.67, f1=0.45\n",
      "at 0.21 threshold, p=0.36, r=0.67, f1=0.47\n",
      "at 0.22 threshold, p=0.37, r=0.66, f1=0.48\n",
      "at 0.23 threshold, p=0.38, r=0.63, f1=0.47\n",
      "at 0.24 threshold, p=0.37, r=0.59, f1=0.45\n",
      "at 0.25 threshold, p=0.38, r=0.58, f1=0.46\n",
      "at 0.26 threshold, p=0.38, r=0.56, f1=0.46\n",
      "at 0.27 threshold, p=0.40, r=0.56, f1=0.46\n",
      "at 0.28 threshold, p=0.40, r=0.54, f1=0.46\n",
      "at 0.29 threshold, p=0.39, r=0.50, f1=0.44\n",
      "at 0.30 threshold, p=0.41, r=0.50, f1=0.45\n",
      "at 0.31 threshold, p=0.42, r=0.50, f1=0.45\n",
      "at 0.32 threshold, p=0.41, r=0.48, f1=0.44\n",
      "at 0.33 threshold, p=0.41, r=0.45, f1=0.43\n",
      "at 0.34 threshold, p=0.40, r=0.43, f1=0.41\n",
      "at 0.35 threshold, p=0.40, r=0.42, f1=0.41\n",
      "at 0.36 threshold, p=0.41, r=0.40, f1=0.41\n",
      "at 0.37 threshold, p=0.40, r=0.38, f1=0.39\n",
      "at 0.38 threshold, p=0.40, r=0.38, f1=0.39\n",
      "at 0.39 threshold, p=0.40, r=0.37, f1=0.38\n",
      "at 0.40 threshold, p=0.38, r=0.34, f1=0.36\n",
      "at 0.41 threshold, p=0.38, r=0.33, f1=0.35\n",
      "at 0.42 threshold, p=0.38, r=0.33, f1=0.35\n",
      "at 0.43 threshold, p=0.38, r=0.32, f1=0.35\n",
      "at 0.44 threshold, p=0.39, r=0.30, f1=0.34\n",
      "at 0.45 threshold, p=0.40, r=0.30, f1=0.34\n",
      "at 0.46 threshold, p=0.40, r=0.30, f1=0.34\n",
      "at 0.47 threshold, p=0.41, r=0.29, f1=0.34\n",
      "at 0.48 threshold, p=0.43, r=0.28, f1=0.34\n",
      "at 0.49 threshold, p=0.43, r=0.27, f1=0.33\n",
      "at 0.50 threshold, p=0.44, r=0.26, f1=0.33\n",
      "at 0.51 threshold, p=0.43, r=0.25, f1=0.31\n",
      "at 0.52 threshold, p=0.46, r=0.24, f1=0.32\n",
      "at 0.53 threshold, p=0.47, r=0.24, f1=0.32\n",
      "at 0.54 threshold, p=0.50, r=0.23, f1=0.32\n",
      "at 0.55 threshold, p=0.49, r=0.21, f1=0.29\n",
      "at 0.56 threshold, p=0.48, r=0.19, f1=0.28\n",
      "at 0.57 threshold, p=0.51, r=0.19, f1=0.27\n",
      "at 0.58 threshold, p=0.53, r=0.17, f1=0.26\n",
      "at 0.59 threshold, p=0.53, r=0.17, f1=0.26\n"
     ]
    }
   ],
   "source": [
    "precisions = []\n",
    "recalls = []\n",
    "\n",
    "for b in bound:\n",
    "    pred = [1 if prob >= b else 0 for prob in gnn_prd]\n",
    "    p, r, f1, _ = precision_recall_fscore_support(y_true, pred, average='binary')\n",
    "    precisions.append(p)\n",
    "    recalls.append(r)\n",
    "    print('at {:3.2f} threshold, p={:.2f}, r={:.2f}, f1={:.2f}'.format(b, p, r, f1))"
   ]
  },
  {
   "cell_type": "code",
   "execution_count": 264,
   "id": "da1b7a28",
   "metadata": {},
   "outputs": [
    {
     "name": "stdout",
     "output_type": "stream",
     "text": [
      "at 0.20 threshold, p=0.93, r=0.78, f1=0.85\n",
      "at 0.21 threshold, p=0.93, r=0.80, f1=0.86\n",
      "at 0.22 threshold, p=0.93, r=0.81, f1=0.87\n",
      "at 0.23 threshold, p=0.93, r=0.82, f1=0.87\n",
      "at 0.24 threshold, p=0.92, r=0.83, f1=0.87\n",
      "at 0.25 threshold, p=0.92, r=0.84, f1=0.88\n",
      "at 0.26 threshold, p=0.92, r=0.85, f1=0.88\n",
      "at 0.27 threshold, p=0.92, r=0.86, f1=0.89\n",
      "at 0.28 threshold, p=0.92, r=0.86, f1=0.89\n",
      "at 0.29 threshold, p=0.91, r=0.87, f1=0.89\n",
      "at 0.30 threshold, p=0.91, r=0.88, f1=0.89\n",
      "at 0.31 threshold, p=0.91, r=0.88, f1=0.90\n",
      "at 0.32 threshold, p=0.91, r=0.88, f1=0.90\n",
      "at 0.33 threshold, p=0.91, r=0.89, f1=0.90\n",
      "at 0.34 threshold, p=0.90, r=0.89, f1=0.90\n",
      "at 0.35 threshold, p=0.90, r=0.89, f1=0.90\n",
      "at 0.36 threshold, p=0.90, r=0.90, f1=0.90\n",
      "at 0.37 threshold, p=0.90, r=0.90, f1=0.90\n",
      "at 0.38 threshold, p=0.90, r=0.90, f1=0.90\n",
      "at 0.39 threshold, p=0.89, r=0.90, f1=0.90\n",
      "at 0.40 threshold, p=0.89, r=0.91, f1=0.90\n",
      "at 0.41 threshold, p=0.89, r=0.91, f1=0.90\n",
      "at 0.42 threshold, p=0.89, r=0.91, f1=0.90\n",
      "at 0.43 threshold, p=0.89, r=0.91, f1=0.90\n",
      "at 0.44 threshold, p=0.89, r=0.92, f1=0.90\n",
      "at 0.45 threshold, p=0.89, r=0.92, f1=0.90\n",
      "at 0.46 threshold, p=0.89, r=0.92, f1=0.90\n",
      "at 0.47 threshold, p=0.89, r=0.93, f1=0.91\n",
      "at 0.48 threshold, p=0.89, r=0.94, f1=0.91\n",
      "at 0.49 threshold, p=0.88, r=0.94, f1=0.91\n",
      "at 0.50 threshold, p=0.88, r=0.94, f1=0.91\n",
      "at 0.51 threshold, p=0.88, r=0.94, f1=0.91\n",
      "at 0.52 threshold, p=0.88, r=0.95, f1=0.92\n",
      "at 0.53 threshold, p=0.88, r=0.95, f1=0.92\n",
      "at 0.54 threshold, p=0.88, r=0.96, f1=0.92\n",
      "at 0.55 threshold, p=0.88, r=0.96, f1=0.92\n",
      "at 0.56 threshold, p=0.88, r=0.96, f1=0.92\n",
      "at 0.57 threshold, p=0.88, r=0.97, f1=0.92\n",
      "at 0.58 threshold, p=0.87, r=0.97, f1=0.92\n",
      "at 0.59 threshold, p=0.87, r=0.98, f1=0.92\n"
     ]
    }
   ],
   "source": [
    "# for negative class (clean commits)\n",
    "\n",
    "\n",
    "\n",
    "for b in bound:\n",
    "    pred = [1 if prob >= b else 0 for prob in gnn_prd]\n",
    "    p, r, f1, _ = precision_recall_fscore_support(y_true, pred, average='binary', pos_label=0)\n",
    "    precisions.append(p)\n",
    "    recalls.append(r)\n",
    "    print('at {:3.2f} threshold, p={:.2f}, r={:.2f}, f1={:.2f}'.format(b, p, r, f1))"
   ]
  },
  {
   "cell_type": "code",
   "execution_count": 204,
   "id": "7076f566",
   "metadata": {},
   "outputs": [
    {
     "data": {
      "image/png": "[encoded data removed]",
      "text/plain": [
       "<Figure size 640x480 with 1 Axes>"
      ]
     },
     "metadata": {},
     "output_type": "display_data"
    }
   ],
   "source": [
    "plt.clf()\n",
    "plt.title('Precision Recall Plot')\n",
    "plt.plot(recalls, precisions, 'black', label='AUC = %0.2f' % metrics.auc(recalls, precisions))\n",
    "plt.legend(loc='lower left')\n",
    "# plt.plot([0, 1], [0, 1], 'r--')\n",
    "# plt.xlim([0, 1])\n",
    "# plt.ylim([0, 1])\n",
    "plt.ylabel('Precision')\n",
    "plt.xlabel('Recall')\n",
    "plt.savefig(\"figures/open_gnn_pr.png\", dpi=500)"
   ]
  },
  {
   "cell_type": "code",
   "execution_count": null,
   "id": "d0475660",
   "metadata": {},
   "outputs": [],
   "source": []
  },
  {
   "cell_type": "code",
   "execution_count": null,
   "id": "1ad8529d",
   "metadata": {},
   "outputs": [],
   "source": []
  },
  {
   "cell_type": "code",
   "execution_count": null,
   "id": "bb4dd029",
   "metadata": {},
   "outputs": [],
   "source": []
  },
  {
   "cell_type": "markdown",
   "id": "b5654b73",
   "metadata": {},
   "source": [
    "## Openstack / JITLine"
   ]
  },
  {
   "cell_type": "code",
   "execution_count": 265,
   "id": "e255b344",
   "metadata": {},
   "outputs": [],
   "source": [
    "y_true = open_prd[\"actual\"]"
   ]
  },
  {
   "cell_type": "code",
   "execution_count": 266,
   "id": "9a317444",
   "metadata": {},
   "outputs": [
    {
     "data": {
      "text/plain": [
       "0       0.076667\n",
       "1       0.070000\n",
       "2       0.020000\n",
       "3       0.023333\n",
       "4       0.070000\n",
       "          ...   \n",
       "1027    0.423333\n",
       "1028    0.100000\n",
       "1029    0.150000\n",
       "1030    0.016667\n",
       "1031    0.516667\n",
       "Name: jitline_prob, Length: 1032, dtype: float64"
      ]
     },
     "execution_count": 266,
     "metadata": {},
     "output_type": "execute_result"
    }
   ],
   "source": [
    "gnn_prd = open_prd[\"jitline_prob\"]\n",
    "gnn_prd"
   ]
  },
  {
   "cell_type": "code",
   "execution_count": 267,
   "id": "f0c5b152",
   "metadata": {},
   "outputs": [
    {
     "name": "stdout",
     "output_type": "stream",
     "text": [
      "at 0.20 threshold, matthews corrcoef=0.34\n",
      "at 0.21 threshold, matthews corrcoef=0.34\n",
      "at 0.22 threshold, matthews corrcoef=0.34\n",
      "at 0.23 threshold, matthews corrcoef=0.34\n",
      "at 0.24 threshold, matthews corrcoef=0.34\n",
      "at 0.25 threshold, matthews corrcoef=0.32\n",
      "at 0.26 threshold, matthews corrcoef=0.32\n",
      "at 0.27 threshold, matthews corrcoef=0.31\n",
      "at 0.28 threshold, matthews corrcoef=0.32\n",
      "at 0.29 threshold, matthews corrcoef=0.33\n",
      "at 0.30 threshold, matthews corrcoef=0.34\n",
      "at 0.31 threshold, matthews corrcoef=0.34\n",
      "at 0.32 threshold, matthews corrcoef=0.33\n",
      "at 0.33 threshold, matthews corrcoef=0.34\n",
      "at 0.34 threshold, matthews corrcoef=0.33\n",
      "at 0.35 threshold, matthews corrcoef=0.31\n",
      "at 0.36 threshold, matthews corrcoef=0.31\n",
      "at 0.37 threshold, matthews corrcoef=0.32\n",
      "at 0.38 threshold, matthews corrcoef=0.32\n",
      "at 0.39 threshold, matthews corrcoef=0.30\n",
      "at 0.40 threshold, matthews corrcoef=0.29\n",
      "at 0.41 threshold, matthews corrcoef=0.29\n",
      "at 0.42 threshold, matthews corrcoef=0.30\n",
      "at 0.43 threshold, matthews corrcoef=0.29\n",
      "at 0.44 threshold, matthews corrcoef=0.30\n",
      "at 0.45 threshold, matthews corrcoef=0.29\n",
      "at 0.46 threshold, matthews corrcoef=0.28\n",
      "at 0.47 threshold, matthews corrcoef=0.27\n",
      "at 0.48 threshold, matthews corrcoef=0.26\n",
      "at 0.49 threshold, matthews corrcoef=0.28\n",
      "at 0.50 threshold, matthews corrcoef=0.27\n",
      "at 0.51 threshold, matthews corrcoef=0.28\n",
      "at 0.52 threshold, matthews corrcoef=0.29\n",
      "at 0.53 threshold, matthews corrcoef=0.28\n",
      "at 0.54 threshold, matthews corrcoef=0.24\n",
      "at 0.55 threshold, matthews corrcoef=0.22\n",
      "at 0.56 threshold, matthews corrcoef=0.22\n",
      "at 0.57 threshold, matthews corrcoef=0.20\n",
      "at 0.58 threshold, matthews corrcoef=0.19\n",
      "at 0.59 threshold, matthews corrcoef=0.17\n"
     ]
    }
   ],
   "source": [
    "from sklearn.metrics import matthews_corrcoef\n",
    "\n",
    "for b in bound:\n",
    "    pred = [1 if prob >= b else 0 for prob in gnn_prd]\n",
    "    print('at {:3.2f} threshold, matthews corrcoef={:.2f}'.format(b, matthews_corrcoef(y_true, pred)))"
   ]
  },
  {
   "cell_type": "code",
   "execution_count": 268,
   "id": "2530a5fb",
   "metadata": {},
   "outputs": [
    {
     "data": {
      "text/plain": [
       "0.7890542461255482"
      ]
     },
     "execution_count": 268,
     "metadata": {},
     "output_type": "execute_result"
    }
   ],
   "source": [
    "roc_auc_score(y_true, gnn_prd)"
   ]
  },
  {
   "cell_type": "code",
   "execution_count": 269,
   "id": "56065480",
   "metadata": {},
   "outputs": [
    {
     "name": "stdout",
     "output_type": "stream",
     "text": [
      "at 0.20 threshold, p=0.31, r=0.75, f1=0.44\n",
      "at 0.21 threshold, p=0.31, r=0.73, f1=0.44\n",
      "at 0.22 threshold, p=0.32, r=0.72, f1=0.44\n",
      "at 0.23 threshold, p=0.32, r=0.70, f1=0.44\n",
      "at 0.24 threshold, p=0.32, r=0.68, f1=0.44\n",
      "at 0.25 threshold, p=0.32, r=0.64, f1=0.43\n",
      "at 0.26 threshold, p=0.32, r=0.64, f1=0.43\n",
      "at 0.27 threshold, p=0.32, r=0.60, f1=0.42\n",
      "at 0.28 threshold, p=0.33, r=0.60, f1=0.43\n",
      "at 0.29 threshold, p=0.35, r=0.60, f1=0.44\n",
      "at 0.30 threshold, p=0.36, r=0.58, f1=0.44\n",
      "at 0.31 threshold, p=0.36, r=0.58, f1=0.45\n",
      "at 0.32 threshold, p=0.37, r=0.56, f1=0.44\n",
      "at 0.33 threshold, p=0.38, r=0.55, f1=0.45\n",
      "at 0.34 threshold, p=0.37, r=0.53, f1=0.44\n",
      "at 0.35 threshold, p=0.36, r=0.49, f1=0.42\n",
      "at 0.36 threshold, p=0.38, r=0.48, f1=0.42\n",
      "at 0.37 threshold, p=0.38, r=0.48, f1=0.42\n",
      "at 0.38 threshold, p=0.39, r=0.47, f1=0.43\n",
      "at 0.39 threshold, p=0.38, r=0.44, f1=0.41\n",
      "at 0.40 threshold, p=0.38, r=0.42, f1=0.40\n",
      "at 0.41 threshold, p=0.39, r=0.41, f1=0.40\n",
      "at 0.42 threshold, p=0.39, r=0.41, f1=0.40\n",
      "at 0.43 threshold, p=0.39, r=0.39, f1=0.39\n",
      "at 0.44 threshold, p=0.41, r=0.39, f1=0.40\n",
      "at 0.45 threshold, p=0.41, r=0.36, f1=0.38\n",
      "at 0.46 threshold, p=0.41, r=0.35, f1=0.38\n",
      "at 0.47 threshold, p=0.41, r=0.32, f1=0.36\n",
      "at 0.48 threshold, p=0.42, r=0.30, f1=0.35\n",
      "at 0.49 threshold, p=0.45, r=0.29, f1=0.35\n",
      "at 0.50 threshold, p=0.45, r=0.27, f1=0.34\n",
      "at 0.51 threshold, p=0.48, r=0.26, f1=0.34\n",
      "at 0.52 threshold, p=0.51, r=0.26, f1=0.34\n",
      "at 0.53 threshold, p=0.51, r=0.23, f1=0.32\n",
      "at 0.54 threshold, p=0.48, r=0.20, f1=0.28\n",
      "at 0.55 threshold, p=0.47, r=0.18, f1=0.26\n",
      "at 0.56 threshold, p=0.47, r=0.17, f1=0.25\n",
      "at 0.57 threshold, p=0.47, r=0.15, f1=0.22\n",
      "at 0.58 threshold, p=0.47, r=0.13, f1=0.21\n",
      "at 0.59 threshold, p=0.45, r=0.11, f1=0.18\n"
     ]
    }
   ],
   "source": [
    "precisions = []\n",
    "recalls = []\n",
    "\n",
    "for b in bound:\n",
    "    pred = [1 if prob >= b else 0 for prob in gnn_prd]\n",
    "    p, r, f1, _ = precision_recall_fscore_support(y_true, pred, average='binary')\n",
    "    precisions.append(p)\n",
    "    recalls.append(r)\n",
    "    print('at {:3.2f} threshold, p={:.2f}, r={:.2f}, f1={:.2f}'.format(b, p, r, f1))"
   ]
  },
  {
   "cell_type": "code",
   "execution_count": 270,
   "id": "32c5a3b4",
   "metadata": {},
   "outputs": [
    {
     "name": "stdout",
     "output_type": "stream",
     "text": [
      "at 0.20 threshold, p=0.94, r=0.71, f1=0.81\n",
      "at 0.21 threshold, p=0.94, r=0.73, f1=0.82\n",
      "at 0.22 threshold, p=0.94, r=0.74, f1=0.83\n",
      "at 0.23 threshold, p=0.94, r=0.75, f1=0.83\n",
      "at 0.24 threshold, p=0.93, r=0.76, f1=0.84\n",
      "at 0.25 threshold, p=0.93, r=0.77, f1=0.84\n",
      "at 0.26 threshold, p=0.93, r=0.78, f1=0.84\n",
      "at 0.27 threshold, p=0.92, r=0.79, f1=0.85\n",
      "at 0.28 threshold, p=0.92, r=0.80, f1=0.86\n",
      "at 0.29 threshold, p=0.92, r=0.81, f1=0.86\n",
      "at 0.30 threshold, p=0.92, r=0.82, f1=0.87\n",
      "at 0.31 threshold, p=0.92, r=0.83, f1=0.87\n",
      "at 0.32 threshold, p=0.92, r=0.84, f1=0.88\n",
      "at 0.33 threshold, p=0.92, r=0.85, f1=0.88\n",
      "at 0.34 threshold, p=0.91, r=0.85, f1=0.88\n",
      "at 0.35 threshold, p=0.91, r=0.86, f1=0.88\n",
      "at 0.36 threshold, p=0.91, r=0.87, f1=0.89\n",
      "at 0.37 threshold, p=0.91, r=0.87, f1=0.89\n",
      "at 0.38 threshold, p=0.91, r=0.88, f1=0.89\n",
      "at 0.39 threshold, p=0.90, r=0.88, f1=0.89\n",
      "at 0.40 threshold, p=0.90, r=0.88, f1=0.89\n",
      "at 0.41 threshold, p=0.90, r=0.89, f1=0.89\n",
      "at 0.42 threshold, p=0.90, r=0.89, f1=0.90\n",
      "at 0.43 threshold, p=0.90, r=0.90, f1=0.90\n",
      "at 0.44 threshold, p=0.90, r=0.91, f1=0.90\n",
      "at 0.45 threshold, p=0.89, r=0.91, f1=0.90\n",
      "at 0.46 threshold, p=0.89, r=0.92, f1=0.90\n",
      "at 0.47 threshold, p=0.89, r=0.92, f1=0.91\n",
      "at 0.48 threshold, p=0.89, r=0.93, f1=0.91\n",
      "at 0.49 threshold, p=0.89, r=0.94, f1=0.91\n",
      "at 0.50 threshold, p=0.88, r=0.95, f1=0.91\n",
      "at 0.51 threshold, p=0.88, r=0.95, f1=0.92\n",
      "at 0.52 threshold, p=0.88, r=0.96, f1=0.92\n",
      "at 0.53 threshold, p=0.88, r=0.96, f1=0.92\n",
      "at 0.54 threshold, p=0.88, r=0.96, f1=0.92\n",
      "at 0.55 threshold, p=0.87, r=0.96, f1=0.92\n",
      "at 0.56 threshold, p=0.87, r=0.97, f1=0.92\n",
      "at 0.57 threshold, p=0.87, r=0.97, f1=0.92\n",
      "at 0.58 threshold, p=0.87, r=0.97, f1=0.92\n",
      "at 0.59 threshold, p=0.87, r=0.98, f1=0.92\n"
     ]
    }
   ],
   "source": [
    "# for negative class (clean commits)\n",
    "\n",
    "\n",
    "\n",
    "for b in bound:\n",
    "    pred = [1 if prob >= b else 0 for prob in gnn_prd]\n",
    "    p, r, f1, _ = precision_recall_fscore_support(y_true, pred, average='binary', pos_label=0)\n",
    "    precisions.append(p)\n",
    "    recalls.append(r)\n",
    "    print('at {:3.2f} threshold, p={:.2f}, r={:.2f}, f1={:.2f}'.format(b, p, r, f1))"
   ]
  },
  {
   "cell_type": "code",
   "execution_count": 213,
   "id": "978f8f50",
   "metadata": {},
   "outputs": [
    {
     "data": {
      "image/png": "[encoded data removed]",
      "text/plain": [
       "<Figure size 640x480 with 1 Axes>"
      ]
     },
     "metadata": {},
     "output_type": "display_data"
    }
   ],
   "source": [
    "plt.clf()\n",
    "plt.title('Precision Recall Plot')\n",
    "plt.plot(recalls, precisions, 'black', label='AUC = %0.2f' % metrics.auc(recalls, precisions))\n",
    "plt.legend(loc='lower left')\n",
    "# plt.plot([0, 1], [0, 1], 'r--')\n",
    "# plt.xlim([0, 1])\n",
    "# plt.ylim([0, 1])\n",
    "plt.ylabel('Precision')\n",
    "plt.xlabel('Recall')\n",
    "plt.savefig(\"figures/open_line_pr.png\", dpi=500)"
   ]
  },
  {
   "cell_type": "code",
   "execution_count": null,
   "id": "a2e19b52",
   "metadata": {},
   "outputs": [],
   "source": []
  },
  {
   "cell_type": "code",
   "execution_count": null,
   "id": "38a60d81",
   "metadata": {},
   "outputs": [],
   "source": []
  },
  {
   "cell_type": "code",
   "execution_count": null,
   "id": "eb766262",
   "metadata": {},
   "outputs": [],
   "source": []
  },
  {
   "cell_type": "markdown",
   "id": "ab8e6534",
   "metadata": {},
   "source": [
    "## Openstack / Baseline"
   ]
  },
  {
   "cell_type": "code",
   "execution_count": 271,
   "id": "97322f63",
   "metadata": {},
   "outputs": [],
   "source": [
    "y_true = open_prd[\"actual\"]"
   ]
  },
  {
   "cell_type": "code",
   "execution_count": 272,
   "id": "f807ae5e",
   "metadata": {},
   "outputs": [
    {
     "data": {
      "text/plain": [
       "0       0.062904\n",
       "1       0.037161\n",
       "2       0.031213\n",
       "3       0.057533\n",
       "4       0.047179\n",
       "          ...   \n",
       "1027    0.223519\n",
       "1028    0.251038\n",
       "1029    0.042886\n",
       "1030    0.059626\n",
       "1031    0.273621\n",
       "Name: base_prob, Length: 1032, dtype: float64"
      ]
     },
     "execution_count": 272,
     "metadata": {},
     "output_type": "execute_result"
    }
   ],
   "source": [
    "gnn_prd = open_prd[\"base_prob\"]\n",
    "gnn_prd"
   ]
  },
  {
   "cell_type": "code",
   "execution_count": 274,
   "id": "7d8b393c",
   "metadata": {},
   "outputs": [
    {
     "name": "stdout",
     "output_type": "stream",
     "text": [
      "at 0.20 threshold, matthews corrcoef=0.31\n",
      "at 0.21 threshold, matthews corrcoef=0.31\n",
      "at 0.22 threshold, matthews corrcoef=0.32\n",
      "at 0.23 threshold, matthews corrcoef=0.30\n",
      "at 0.24 threshold, matthews corrcoef=0.29\n",
      "at 0.25 threshold, matthews corrcoef=0.28\n",
      "at 0.26 threshold, matthews corrcoef=0.27\n",
      "at 0.27 threshold, matthews corrcoef=0.27\n",
      "at 0.28 threshold, matthews corrcoef=0.27\n",
      "at 0.29 threshold, matthews corrcoef=0.25\n",
      "at 0.30 threshold, matthews corrcoef=0.25\n",
      "at 0.31 threshold, matthews corrcoef=0.25\n",
      "at 0.32 threshold, matthews corrcoef=0.24\n",
      "at 0.33 threshold, matthews corrcoef=0.24\n",
      "at 0.34 threshold, matthews corrcoef=0.21\n",
      "at 0.35 threshold, matthews corrcoef=0.20\n",
      "at 0.36 threshold, matthews corrcoef=0.20\n",
      "at 0.37 threshold, matthews corrcoef=0.18\n",
      "at 0.38 threshold, matthews corrcoef=0.17\n",
      "at 0.39 threshold, matthews corrcoef=0.15\n",
      "at 0.40 threshold, matthews corrcoef=0.13\n",
      "at 0.41 threshold, matthews corrcoef=0.10\n",
      "at 0.42 threshold, matthews corrcoef=0.08\n",
      "at 0.43 threshold, matthews corrcoef=0.06\n",
      "at 0.44 threshold, matthews corrcoef=0.04\n",
      "at 0.45 threshold, matthews corrcoef=-0.00\n",
      "at 0.46 threshold, matthews corrcoef=-0.01\n",
      "at 0.47 threshold, matthews corrcoef=0.01\n",
      "at 0.48 threshold, matthews corrcoef=-0.04\n",
      "at 0.49 threshold, matthews corrcoef=-0.03\n",
      "at 0.50 threshold, matthews corrcoef=-0.02\n",
      "at 0.51 threshold, matthews corrcoef=-0.02\n",
      "at 0.52 threshold, matthews corrcoef=-0.02\n",
      "at 0.53 threshold, matthews corrcoef=-0.02\n",
      "at 0.54 threshold, matthews corrcoef=-0.01\n",
      "at 0.55 threshold, matthews corrcoef=-0.01\n",
      "at 0.56 threshold, matthews corrcoef=0.00\n",
      "at 0.57 threshold, matthews corrcoef=0.00\n",
      "at 0.58 threshold, matthews corrcoef=0.00\n",
      "at 0.59 threshold, matthews corrcoef=0.00\n"
     ]
    }
   ],
   "source": [
    "from sklearn.metrics import matthews_corrcoef\n",
    "\n",
    "for b in bound:\n",
    "    pred = [1 if prob >= b else 0 for prob in gnn_prd]\n",
    "    print('at {:3.2f} threshold, matthews corrcoef={:.2f}'.format(b, matthews_corrcoef(y_true, pred)))"
   ]
  },
  {
   "cell_type": "code",
   "execution_count": 275,
   "id": "1f03da32",
   "metadata": {},
   "outputs": [
    {
     "data": {
      "text/plain": [
       "0.7829546922860596"
      ]
     },
     "execution_count": 275,
     "metadata": {},
     "output_type": "execute_result"
    }
   ],
   "source": [
    "roc_auc_score(y_true, gnn_prd)"
   ]
  },
  {
   "cell_type": "code",
   "execution_count": 276,
   "id": "c4beb900",
   "metadata": {},
   "outputs": [
    {
     "name": "stdout",
     "output_type": "stream",
     "text": [
      "at 0.20 threshold, p=0.32, r=0.62, f1=0.42\n",
      "at 0.21 threshold, p=0.32, r=0.61, f1=0.42\n",
      "at 0.22 threshold, p=0.33, r=0.60, f1=0.43\n",
      "at 0.23 threshold, p=0.33, r=0.58, f1=0.42\n",
      "at 0.24 threshold, p=0.33, r=0.54, f1=0.41\n",
      "at 0.25 threshold, p=0.32, r=0.52, f1=0.40\n",
      "at 0.26 threshold, p=0.32, r=0.49, f1=0.39\n",
      "at 0.27 threshold, p=0.33, r=0.48, f1=0.39\n",
      "at 0.28 threshold, p=0.33, r=0.47, f1=0.39\n",
      "at 0.29 threshold, p=0.33, r=0.44, f1=0.37\n",
      "at 0.30 threshold, p=0.33, r=0.42, f1=0.37\n",
      "at 0.31 threshold, p=0.34, r=0.41, f1=0.37\n",
      "at 0.32 threshold, p=0.33, r=0.40, f1=0.36\n",
      "at 0.33 threshold, p=0.34, r=0.37, f1=0.35\n",
      "at 0.34 threshold, p=0.32, r=0.34, f1=0.33\n",
      "at 0.35 threshold, p=0.32, r=0.32, f1=0.32\n",
      "at 0.36 threshold, p=0.32, r=0.30, f1=0.31\n",
      "at 0.37 threshold, p=0.31, r=0.27, f1=0.29\n",
      "at 0.38 threshold, p=0.31, r=0.24, f1=0.27\n",
      "at 0.39 threshold, p=0.30, r=0.21, f1=0.25\n",
      "at 0.40 threshold, p=0.29, r=0.19, f1=0.23\n",
      "at 0.41 threshold, p=0.27, r=0.15, f1=0.19\n",
      "at 0.42 threshold, p=0.25, r=0.11, f1=0.15\n",
      "at 0.43 threshold, p=0.24, r=0.08, f1=0.12\n",
      "at 0.44 threshold, p=0.21, r=0.05, f1=0.08\n",
      "at 0.45 threshold, p=0.14, r=0.02, f1=0.04\n",
      "at 0.46 threshold, p=0.12, r=0.01, f1=0.02\n",
      "at 0.47 threshold, p=0.17, r=0.01, f1=0.02\n",
      "at 0.48 threshold, p=0.00, r=0.00, f1=0.00\n",
      "at 0.49 threshold, p=0.00, r=0.00, f1=0.00\n",
      "at 0.50 threshold, p=0.00, r=0.00, f1=0.00\n",
      "at 0.51 threshold, p=0.00, r=0.00, f1=0.00\n",
      "at 0.52 threshold, p=0.00, r=0.00, f1=0.00\n",
      "at 0.53 threshold, p=0.00, r=0.00, f1=0.00\n",
      "at 0.54 threshold, p=0.00, r=0.00, f1=0.00\n",
      "at 0.55 threshold, p=0.00, r=0.00, f1=0.00\n",
      "at 0.56 threshold, p=0.00, r=0.00, f1=0.00\n",
      "at 0.57 threshold, p=0.00, r=0.00, f1=0.00\n",
      "at 0.58 threshold, p=0.00, r=0.00, f1=0.00\n",
      "at 0.59 threshold, p=0.00, r=0.00, f1=0.00\n"
     ]
    },
    {
     "name": "stderr",
     "output_type": "stream",
     "text": [
      "/Users/hossein/Documents/Thesis/jit-bugpred/venv/lib/python3.9/site-packages/sklearn/metrics/_classification.py:1469: UndefinedMetricWarning: Precision and F-score are ill-defined and being set to 0.0 due to no predicted samples. Use `zero_division` parameter to control this behavior.\n",
      "  _warn_prf(average, modifier, msg_start, len(result))\n",
      "/Users/hossein/Documents/Thesis/jit-bugpred/venv/lib/python3.9/site-packages/sklearn/metrics/_classification.py:1469: UndefinedMetricWarning: Precision and F-score are ill-defined and being set to 0.0 due to no predicted samples. Use `zero_division` parameter to control this behavior.\n",
      "  _warn_prf(average, modifier, msg_start, len(result))\n",
      "/Users/hossein/Documents/Thesis/jit-bugpred/venv/lib/python3.9/site-packages/sklearn/metrics/_classification.py:1469: UndefinedMetricWarning: Precision and F-score are ill-defined and being set to 0.0 due to no predicted samples. Use `zero_division` parameter to control this behavior.\n",
      "  _warn_prf(average, modifier, msg_start, len(result))\n",
      "/Users/hossein/Documents/Thesis/jit-bugpred/venv/lib/python3.9/site-packages/sklearn/metrics/_classification.py:1469: UndefinedMetricWarning: Precision and F-score are ill-defined and being set to 0.0 due to no predicted samples. Use `zero_division` parameter to control this behavior.\n",
      "  _warn_prf(average, modifier, msg_start, len(result))\n"
     ]
    }
   ],
   "source": [
    "precisions = []\n",
    "recalls = []\n",
    "\n",
    "for b in bound:\n",
    "    pred = [1 if prob >= b else 0 for prob in gnn_prd]\n",
    "    p, r, f1, _ = precision_recall_fscore_support(y_true, pred, average='binary')\n",
    "    precisions.append(p)\n",
    "    recalls.append(r)\n",
    "    print('at {:3.2f} threshold, p={:.2f}, r={:.2f}, f1={:.2f}'.format(b, p, r, f1))"
   ]
  },
  {
   "cell_type": "code",
   "execution_count": 277,
   "id": "4ab1331e",
   "metadata": {},
   "outputs": [
    {
     "name": "stdout",
     "output_type": "stream",
     "text": [
      "at 0.20 threshold, p=0.92, r=0.78, f1=0.84\n",
      "at 0.21 threshold, p=0.92, r=0.78, f1=0.85\n",
      "at 0.22 threshold, p=0.92, r=0.79, f1=0.85\n",
      "at 0.23 threshold, p=0.92, r=0.80, f1=0.85\n",
      "at 0.24 threshold, p=0.91, r=0.81, f1=0.86\n",
      "at 0.25 threshold, p=0.91, r=0.82, f1=0.86\n",
      "at 0.26 threshold, p=0.91, r=0.83, f1=0.87\n",
      "at 0.27 threshold, p=0.91, r=0.83, f1=0.87\n",
      "at 0.28 threshold, p=0.90, r=0.84, f1=0.87\n",
      "at 0.29 threshold, p=0.90, r=0.85, f1=0.87\n",
      "at 0.30 threshold, p=0.90, r=0.86, f1=0.88\n",
      "at 0.31 threshold, p=0.90, r=0.86, f1=0.88\n",
      "at 0.32 threshold, p=0.89, r=0.87, f1=0.88\n",
      "at 0.33 threshold, p=0.89, r=0.88, f1=0.88\n",
      "at 0.34 threshold, p=0.89, r=0.88, f1=0.88\n",
      "at 0.35 threshold, p=0.88, r=0.89, f1=0.89\n",
      "at 0.36 threshold, p=0.88, r=0.89, f1=0.89\n",
      "at 0.37 threshold, p=0.88, r=0.90, f1=0.89\n",
      "at 0.38 threshold, p=0.88, r=0.91, f1=0.89\n",
      "at 0.39 threshold, p=0.87, r=0.92, f1=0.90\n",
      "at 0.40 threshold, p=0.87, r=0.92, f1=0.90\n",
      "at 0.41 threshold, p=0.87, r=0.93, f1=0.90\n",
      "at 0.42 threshold, p=0.86, r=0.94, f1=0.90\n",
      "at 0.43 threshold, p=0.86, r=0.96, f1=0.91\n",
      "at 0.44 threshold, p=0.86, r=0.97, f1=0.91\n",
      "at 0.45 threshold, p=0.86, r=0.98, f1=0.91\n",
      "at 0.46 threshold, p=0.86, r=0.98, f1=0.92\n",
      "at 0.47 threshold, p=0.86, r=0.99, f1=0.92\n",
      "at 0.48 threshold, p=0.85, r=0.99, f1=0.92\n",
      "at 0.49 threshold, p=0.85, r=0.99, f1=0.92\n",
      "at 0.50 threshold, p=0.86, r=1.00, f1=0.92\n",
      "at 0.51 threshold, p=0.86, r=1.00, f1=0.92\n",
      "at 0.52 threshold, p=0.86, r=1.00, f1=0.92\n",
      "at 0.53 threshold, p=0.86, r=1.00, f1=0.92\n",
      "at 0.54 threshold, p=0.86, r=1.00, f1=0.92\n",
      "at 0.55 threshold, p=0.86, r=1.00, f1=0.92\n",
      "at 0.56 threshold, p=0.86, r=1.00, f1=0.92\n",
      "at 0.57 threshold, p=0.86, r=1.00, f1=0.92\n",
      "at 0.58 threshold, p=0.86, r=1.00, f1=0.92\n",
      "at 0.59 threshold, p=0.86, r=1.00, f1=0.92\n"
     ]
    }
   ],
   "source": [
    "# for negative class (clean commits)\n",
    "\n",
    "\n",
    "\n",
    "for b in bound:\n",
    "    pred = [1 if prob >= b else 0 for prob in gnn_prd]\n",
    "    p, r, f1, _ = precision_recall_fscore_support(y_true, pred, average='binary', pos_label=0)\n",
    "    precisions.append(p)\n",
    "    recalls.append(r)\n",
    "    print('at {:3.2f} threshold, p={:.2f}, r={:.2f}, f1={:.2f}'.format(b, p, r, f1))"
   ]
  },
  {
   "cell_type": "code",
   "execution_count": 219,
   "id": "27f3d2ac",
   "metadata": {},
   "outputs": [
    {
     "data": {
      "image/png": "[encoded data removed]",
      "text/plain": [
       "<Figure size 640x480 with 1 Axes>"
      ]
     },
     "metadata": {},
     "output_type": "display_data"
    }
   ],
   "source": [
    "plt.clf()\n",
    "plt.title('Precision Recall Plot')\n",
    "plt.plot(recalls, precisions, 'black', label='AUC = %0.2f' % metrics.auc(recalls, precisions))\n",
    "plt.legend(loc='lower right')\n",
    "# plt.plot([0, 1], [0, 1], 'r--')\n",
    "# plt.xlim([0, 1])\n",
    "# plt.ylim([0, 1])\n",
    "plt.ylabel('Precision')\n",
    "plt.xlabel('Recall')\n",
    "plt.savefig(\"figures/open_base_pr.png\", dpi=500)"
   ]
  },
  {
   "cell_type": "code",
   "execution_count": null,
   "id": "d631caeb",
   "metadata": {},
   "outputs": [],
   "source": []
  },
  {
   "cell_type": "code",
   "execution_count": null,
   "id": "5ed7de19",
   "metadata": {},
   "outputs": [],
   "source": []
  },
  {
   "cell_type": "code",
   "execution_count": null,
   "id": "7c883828",
   "metadata": {},
   "outputs": [],
   "source": []
  },
  {
   "cell_type": "code",
   "execution_count": null,
   "id": "38fb33eb",
   "metadata": {},
   "outputs": [],
   "source": []
  }
 ],
 "metadata": {
  "kernelspec": {
   "display_name": "Python 3 (ipykernel)",
   "language": "python",
   "name": "python3"
  },
  "language_info": {
   "codemirror_mode": {
    "name": "ipython",
    "version": 3
   },
   "file_extension": ".py",
   "mimetype": "text/x-python",
   "name": "python",
   "nbconvert_exporter": "python",
   "pygments_lexer": "ipython3",
   "version": "3.9.6"
  }
 },
 "nbformat": 4,
 "nbformat_minor": 5
}
