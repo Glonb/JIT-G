{
 "cells": [
  {
   "cell_type": "code",
   "execution_count": 1,
   "id": "taken-colorado",
   "metadata": {},
   "outputs": [],
   "source": [
    "%config IPCompleter.greedy=True\n",
    "%config Completer.use_jedi = False"
   ]
  },
  {
   "cell_type": "code",
   "execution_count": 2,
   "id": "unique-diversity",
   "metadata": {},
   "outputs": [],
   "source": [
    "import pandas as pd\n",
    "import json\n",
    "import matplotlib.pyplot as plt\n",
    "\n",
    "data_path = '../data/'"
   ]
  },
  {
   "cell_type": "markdown",
   "id": "geological-income",
   "metadata": {},
   "source": [
    "# source codes"
   ]
  },
  {
   "cell_type": "code",
   "execution_count": 3,
   "id": "saved-howard",
   "metadata": {},
   "outputs": [],
   "source": [
    "with open(data_path + 'source_codes_0.25_3.json', 'r') as fp:\n",
    "    source_codes = json.load(fp)\n",
    "    \n",
    "df = pd.read_csv(data_path + '/rawdata.csv')\n",
    "df = df[['commit_id', 'buggy']]\n",
    "df.set_index('commit_id', inplace=True)\n",
    "label_dict = df.to_dict()['buggy']"
   ]
  },
  {
   "cell_type": "code",
   "execution_count": 4,
   "id": "diagnostic-sally",
   "metadata": {},
   "outputs": [
    {
     "data": {
      "text/html": [
       "<div>\n",
       "<style scoped>\n",
       "    .dataframe tbody tr th:only-of-type {\n",
       "        vertical-align: middle;\n",
       "    }\n",
       "\n",
       "    .dataframe tbody tr th {\n",
       "        vertical-align: top;\n",
       "    }\n",
       "\n",
       "    .dataframe thead th {\n",
       "        text-align: right;\n",
       "    }\n",
       "</style>\n",
       "<table border=\"1\" class=\"dataframe\">\n",
       "  <thead>\n",
       "    <tr style=\"text-align: right;\">\n",
       "      <th></th>\n",
       "      <th>buggy</th>\n",
       "    </tr>\n",
       "    <tr>\n",
       "      <th>commit_id</th>\n",
       "      <th></th>\n",
       "    </tr>\n",
       "  </thead>\n",
       "  <tbody>\n",
       "    <tr>\n",
       "      <th>00057454f6609871c2cabf874876d26a6d0d0641</th>\n",
       "      <td>False</td>\n",
       "    </tr>\n",
       "    <tr>\n",
       "      <th>0007d255d9b20da4e5bbcdbaf5813104fbc092da</th>\n",
       "      <td>False</td>\n",
       "    </tr>\n",
       "    <tr>\n",
       "      <th>0014f2c828dae5f9481a2bac68fe90a7857b2f59</th>\n",
       "      <td>False</td>\n",
       "    </tr>\n",
       "    <tr>\n",
       "      <th>001961ed495a33cc944407888a2797f8a600e091</th>\n",
       "      <td>False</td>\n",
       "    </tr>\n",
       "    <tr>\n",
       "      <th>001d36c97eac77410f7dd32290d2142abfb19fa0</th>\n",
       "      <td>True</td>\n",
       "    </tr>\n",
       "  </tbody>\n",
       "</table>\n",
       "</div>"
      ],
      "text/plain": [
       "                                          buggy\n",
       "commit_id                                      \n",
       "00057454f6609871c2cabf874876d26a6d0d0641  False\n",
       "0007d255d9b20da4e5bbcdbaf5813104fbc092da  False\n",
       "0014f2c828dae5f9481a2bac68fe90a7857b2f59  False\n",
       "001961ed495a33cc944407888a2797f8a600e091  False\n",
       "001d36c97eac77410f7dd32290d2142abfb19fa0   True"
      ]
     },
     "execution_count": 4,
     "metadata": {},
     "output_type": "execute_result"
    }
   ],
   "source": [
    "df.head()"
   ]
  },
  {
   "cell_type": "code",
   "execution_count": 5,
   "id": "sticky-technique",
   "metadata": {},
   "outputs": [],
   "source": [
    "n_buggy = len([k for k, v in source_codes.items() if label_dict[k]])\n",
    "n_clean = len([k for k, v in source_codes.items() if not label_dict[k]])"
   ]
  },
  {
   "cell_type": "code",
   "execution_count": 6,
   "id": "textile-happiness",
   "metadata": {},
   "outputs": [
    {
     "data": {
      "text/plain": [
       "1078"
      ]
     },
     "execution_count": 6,
     "metadata": {},
     "output_type": "execute_result"
    }
   ],
   "source": [
    "n_buggy"
   ]
  },
  {
   "cell_type": "code",
   "execution_count": 7,
   "id": "prerequisite-denmark",
   "metadata": {},
   "outputs": [
    {
     "data": {
      "image/png": "[encoded data removed]",
      "text/plain": [
       "<Figure size 432x288 with 1 Axes>"
      ]
     },
     "metadata": {},
     "output_type": "display_data"
    },
    {
     "name": "stdout",
     "output_type": "stream",
     "text": [
      "# total commits = 5391\n"
     ]
    }
   ],
   "source": [
    "data = [n_buggy, n_clean]\n",
    "labels = ['buggy', 'clean']\n",
    "\n",
    "_, _, autotexts = plt.pie(data, labels=labels, autopct=\"\", shadow=True, radius=2, textprops={'fontsize': 18})\n",
    "\n",
    "for i, a in enumerate(autotexts):\n",
    "    a.set_text(\"n={}\\n\\n{:.2f}%\".format(data[i], 100*data[i]/len(source_codes)))\n",
    "\n",
    "plt.show()\n",
    "print('# total commits = {}'.format(len(source_codes)))"
   ]
  },
  {
   "cell_type": "code",
   "execution_count": 8,
   "id": "median-mixer",
   "metadata": {},
   "outputs": [
    {
     "data": {
      "text/plain": [
       "5391"
      ]
     },
     "execution_count": 8,
     "metadata": {},
     "output_type": "execute_result"
    }
   ],
   "source": [
    "n_files = [len(v) for _, v in source_codes.items()]\n",
    "len(n_files)"
   ]
  },
  {
   "cell_type": "code",
   "execution_count": 9,
   "id": "agricultural-bible",
   "metadata": {},
   "outputs": [
    {
     "data": {
      "image/png": "[encoded data removed]",
      "text/plain": [
       "<Figure size 432x288 with 1 Axes>"
      ]
     },
     "metadata": {
      "needs_background": "light"
     },
     "output_type": "display_data"
    }
   ],
   "source": [
    "plt.hist(n_files, bins=[0.75, 1.25, 1.75, 2.25, 2.75, 3.25])  # density=False would make counts\n",
    "plt.ylabel('count')\n",
    "plt.xlabel('n_files');"
   ]
  },
  {
   "cell_type": "code",
   "execution_count": 10,
   "id": "precious-powell",
   "metadata": {},
   "outputs": [],
   "source": [
    "n_buggy_files = 0\n",
    "n_clean_files = 0\n",
    "\n",
    "for k, v in source_codes.items():\n",
    "    if label_dict[k]:\n",
    "        n_buggy_files += len(v)\n",
    "    else:\n",
    "        n_clean_files += len(v)"
   ]
  },
  {
   "cell_type": "code",
   "execution_count": 11,
   "id": "gothic-talent",
   "metadata": {},
   "outputs": [
    {
     "data": {
      "image/png": "[encoded data removed]",
      "text/plain": [
       "<Figure size 432x288 with 1 Axes>"
      ]
     },
     "metadata": {},
     "output_type": "display_data"
    },
    {
     "name": "stdout",
     "output_type": "stream",
     "text": [
      "# total files = 9587\n"
     ]
    }
   ],
   "source": [
    "data = [n_buggy_files, n_clean_files]\n",
    "labels = ['buggy files', 'clean files']\n",
    "\n",
    "_, _, autotexts = plt.pie(data, labels=labels, autopct=\"\", shadow=True, radius=2, textprops={'fontsize': 18})\n",
    "\n",
    "for i, a in enumerate(autotexts):\n",
    "    a.set_text(\"n={}\\n\\n{:.2f}%\".format(data[i], 100*data[i]/sum(data)))\n",
    "\n",
    "plt.show()\n",
    "print('# total files = {}'.format(sum(data)))"
   ]
  },
  {
   "cell_type": "code",
   "execution_count": 12,
   "id": "protected-australian",
   "metadata": {
    "scrolled": true
   },
   "outputs": [
    {
     "data": {
      "text/plain": [
       "1078"
      ]
     },
     "execution_count": 12,
     "metadata": {},
     "output_type": "execute_result"
    }
   ],
   "source": [
    "buggy_n_files = [len(v) for k, v in source_codes.items() if label_dict[k]]\n",
    "len(buggy_n_files)"
   ]
  },
  {
   "cell_type": "code",
   "execution_count": 13,
   "id": "going-karma",
   "metadata": {},
   "outputs": [
    {
     "data": {
      "image/png": "[encoded data removed]",
      "text/plain": [
       "<Figure size 432x288 with 1 Axes>"
      ]
     },
     "metadata": {
      "needs_background": "light"
     },
     "output_type": "display_data"
    }
   ],
   "source": [
    "plt.hist(buggy_n_files, bins=[0.75, 1.25, 1.75, 2.25, 2.75, 3.25])  # density=False would make counts\n",
    "plt.ylabel('count')\n",
    "plt.xlabel('n_files in buggy commits');"
   ]
  },
  {
   "cell_type": "code",
   "execution_count": 14,
   "id": "unable-level",
   "metadata": {
    "scrolled": true
   },
   "outputs": [
    {
     "data": {
      "text/plain": [
       "4313"
      ]
     },
     "execution_count": 14,
     "metadata": {},
     "output_type": "execute_result"
    }
   ],
   "source": [
    "clean_n_files = [len(v) for k, v in source_codes.items() if not label_dict[k]]\n",
    "len(clean_n_files)"
   ]
  },
  {
   "cell_type": "code",
   "execution_count": 15,
   "id": "female-switch",
   "metadata": {
    "scrolled": true
   },
   "outputs": [
    {
     "data": {
      "image/png": "[encoded data removed]",
      "text/plain": [
       "<Figure size 432x288 with 1 Axes>"
      ]
     },
     "metadata": {
      "needs_background": "light"
     },
     "output_type": "display_data"
    }
   ],
   "source": [
    "plt.hist(clean_n_files, bins=[0.75, 1.25, 1.75, 2.25, 2.75, 3.25])  # density=False would make counts\n",
    "plt.ylabel('count')\n",
    "plt.xlabel('n_files in clean commits');"
   ]
  },
  {
   "cell_type": "code",
   "execution_count": null,
   "id": "generic-diagnosis",
   "metadata": {},
   "outputs": [],
   "source": []
  },
  {
   "cell_type": "code",
   "execution_count": null,
   "id": "laden-pledge",
   "metadata": {},
   "outputs": [],
   "source": []
  },
  {
   "cell_type": "code",
   "execution_count": null,
   "id": "limiting-windows",
   "metadata": {},
   "outputs": [],
   "source": []
  },
  {
   "cell_type": "markdown",
   "id": "basic-parallel",
   "metadata": {},
   "source": [
    "# AST subtrees"
   ]
  },
  {
   "cell_type": "code",
   "execution_count": 106,
   "id": "foreign-bible",
   "metadata": {},
   "outputs": [],
   "source": [
    "with open(data_path + 'subtrees_0.25_3.json', 'r') as fp:\n",
    "    subtrees = json.load(fp)\n",
    "    \n",
    "df = pd.read_csv(data_path + '/rawdata.csv')\n",
    "df = df[['commit_id', 'buggy']]\n",
    "df.set_index('commit_id', inplace=True)\n",
    "label_dict = df.to_dict()['buggy']"
   ]
  },
  {
   "cell_type": "code",
   "execution_count": 107,
   "id": "executive-romania",
   "metadata": {},
   "outputs": [
    {
     "data": {
      "text/html": [
       "<div>\n",
       "<style scoped>\n",
       "    .dataframe tbody tr th:only-of-type {\n",
       "        vertical-align: middle;\n",
       "    }\n",
       "\n",
       "    .dataframe tbody tr th {\n",
       "        vertical-align: top;\n",
       "    }\n",
       "\n",
       "    .dataframe thead th {\n",
       "        text-align: right;\n",
       "    }\n",
       "</style>\n",
       "<table border=\"1\" class=\"dataframe\">\n",
       "  <thead>\n",
       "    <tr style=\"text-align: right;\">\n",
       "      <th></th>\n",
       "      <th>buggy</th>\n",
       "    </tr>\n",
       "    <tr>\n",
       "      <th>commit_id</th>\n",
       "      <th></th>\n",
       "    </tr>\n",
       "  </thead>\n",
       "  <tbody>\n",
       "    <tr>\n",
       "      <th>00057454f6609871c2cabf874876d26a6d0d0641</th>\n",
       "      <td>False</td>\n",
       "    </tr>\n",
       "    <tr>\n",
       "      <th>0007d255d9b20da4e5bbcdbaf5813104fbc092da</th>\n",
       "      <td>False</td>\n",
       "    </tr>\n",
       "    <tr>\n",
       "      <th>0014f2c828dae5f9481a2bac68fe90a7857b2f59</th>\n",
       "      <td>False</td>\n",
       "    </tr>\n",
       "    <tr>\n",
       "      <th>001961ed495a33cc944407888a2797f8a600e091</th>\n",
       "      <td>False</td>\n",
       "    </tr>\n",
       "    <tr>\n",
       "      <th>001d36c97eac77410f7dd32290d2142abfb19fa0</th>\n",
       "      <td>True</td>\n",
       "    </tr>\n",
       "  </tbody>\n",
       "</table>\n",
       "</div>"
      ],
      "text/plain": [
       "                                          buggy\n",
       "commit_id                                      \n",
       "00057454f6609871c2cabf874876d26a6d0d0641  False\n",
       "0007d255d9b20da4e5bbcdbaf5813104fbc092da  False\n",
       "0014f2c828dae5f9481a2bac68fe90a7857b2f59  False\n",
       "001961ed495a33cc944407888a2797f8a600e091  False\n",
       "001d36c97eac77410f7dd32290d2142abfb19fa0   True"
      ]
     },
     "execution_count": 107,
     "metadata": {},
     "output_type": "execute_result"
    }
   ],
   "source": [
    "df.head()"
   ]
  },
  {
   "cell_type": "code",
   "execution_count": 108,
   "id": "curious-shame",
   "metadata": {},
   "outputs": [],
   "source": [
    "n_buggy = len([k for k, v in subtrees.items() if label_dict[k]])\n",
    "n_clean = len([k for k, v in subtrees.items() if not label_dict[k]])"
   ]
  },
  {
   "cell_type": "code",
   "execution_count": 109,
   "id": "grand-richmond",
   "metadata": {},
   "outputs": [
    {
     "data": {
      "text/plain": [
       "859"
      ]
     },
     "execution_count": 109,
     "metadata": {},
     "output_type": "execute_result"
    }
   ],
   "source": [
    "n_buggy"
   ]
  },
  {
   "cell_type": "code",
   "execution_count": 110,
   "id": "patient-machinery",
   "metadata": {},
   "outputs": [
    {
     "data": {
      "image/png": "[encoded data removed]",
      "text/plain": [
       "<Figure size 432x288 with 1 Axes>"
      ]
     },
     "metadata": {},
     "output_type": "display_data"
    },
    {
     "name": "stdout",
     "output_type": "stream",
     "text": [
      "# total commits = 3868\n"
     ]
    }
   ],
   "source": [
    "data = [n_buggy, n_clean]\n",
    "labels = ['buggy', 'clean']\n",
    "\n",
    "_, _, autotexts = plt.pie(data, labels=labels, autopct=\"\", shadow=True, radius=2, textprops={'fontsize': 18})\n",
    "\n",
    "for i, a in enumerate(autotexts):\n",
    "    a.set_text(\"n={}\\n\\n{:.2f}%\".format(data[i], 100*data[i]/len(subtrees)))\n",
    "\n",
    "plt.show()\n",
    "print('# total commits = {}'.format(len(subtrees)))"
   ]
  },
  {
   "cell_type": "code",
   "execution_count": 111,
   "id": "celtic-european",
   "metadata": {},
   "outputs": [
    {
     "data": {
      "text/plain": [
       "3868"
      ]
     },
     "execution_count": 111,
     "metadata": {},
     "output_type": "execute_result"
    }
   ],
   "source": [
    "n_files = [len(v) for _, v in subtrees.items()]\n",
    "len(n_files)"
   ]
  },
  {
   "cell_type": "code",
   "execution_count": 112,
   "id": "maritime-pizza",
   "metadata": {},
   "outputs": [
    {
     "data": {
      "image/png": "[encoded data removed]",
      "text/plain": [
       "<Figure size 432x288 with 1 Axes>"
      ]
     },
     "metadata": {
      "needs_background": "light"
     },
     "output_type": "display_data"
    }
   ],
   "source": [
    "plt.hist(n_files, bins=[0.75, 1.25, 1.75, 2.25, 2.75, 3.25])  # density=False would make counts\n",
    "plt.ylabel('count')\n",
    "plt.xlabel('n_files');"
   ]
  },
  {
   "cell_type": "code",
   "execution_count": 113,
   "id": "directed-communications",
   "metadata": {},
   "outputs": [],
   "source": [
    "n_buggy_files = 0\n",
    "n_clean_files = 0\n",
    "\n",
    "for k, v in subtrees.items():\n",
    "    if label_dict[k]:\n",
    "        n_buggy_files += len(v)\n",
    "    else:\n",
    "        n_clean_files += len(v)"
   ]
  },
  {
   "cell_type": "code",
   "execution_count": 114,
   "id": "graduate-tracy",
   "metadata": {},
   "outputs": [
    {
     "data": {
      "image/png": "[encoded data removed]",
      "text/plain": [
       "<Figure size 432x288 with 1 Axes>"
      ]
     },
     "metadata": {},
     "output_type": "display_data"
    },
    {
     "name": "stdout",
     "output_type": "stream",
     "text": [
      "# total files = 5849\n"
     ]
    }
   ],
   "source": [
    "data = [n_buggy_files, n_clean_files]\n",
    "labels = ['buggy files', 'clean files']\n",
    "\n",
    "_, _, autotexts = plt.pie(data, labels=labels, autopct=\"\", shadow=True, radius=2, textprops={'fontsize': 18})\n",
    "\n",
    "for i, a in enumerate(autotexts):\n",
    "    a.set_text(\"n={}\\n\\n{:.2f}%\".format(data[i], 100*data[i]/sum(data)))\n",
    "\n",
    "plt.show()\n",
    "print('# total files = {}'.format(sum(data)))"
   ]
  },
  {
   "cell_type": "code",
   "execution_count": 115,
   "id": "external-constitutional",
   "metadata": {
    "scrolled": true
   },
   "outputs": [
    {
     "data": {
      "text/plain": [
       "859"
      ]
     },
     "execution_count": 115,
     "metadata": {},
     "output_type": "execute_result"
    }
   ],
   "source": [
    "buggy_n_files = [len(v) for k, v in subtrees.items() if label_dict[k]]\n",
    "len(buggy_n_files)"
   ]
  },
  {
   "cell_type": "code",
   "execution_count": 116,
   "id": "wound-packet",
   "metadata": {},
   "outputs": [
    {
     "data": {
      "image/png": "[encoded data removed]",
      "text/plain": [
       "<Figure size 432x288 with 1 Axes>"
      ]
     },
     "metadata": {
      "needs_background": "light"
     },
     "output_type": "display_data"
    }
   ],
   "source": [
    "plt.hist(buggy_n_files, bins=[0.75, 1.25, 1.75, 2.25, 2.75, 3.25])  # density=False would make counts\n",
    "plt.ylabel('count')\n",
    "plt.xlabel('n_files in buggy commits');"
   ]
  },
  {
   "cell_type": "code",
   "execution_count": 117,
   "id": "dependent-lending",
   "metadata": {
    "scrolled": true
   },
   "outputs": [
    {
     "data": {
      "text/plain": [
       "3009"
      ]
     },
     "execution_count": 117,
     "metadata": {},
     "output_type": "execute_result"
    }
   ],
   "source": [
    "clean_n_files = [len(v) for k, v in subtrees.items() if not label_dict[k]]\n",
    "len(clean_n_files)"
   ]
  },
  {
   "cell_type": "code",
   "execution_count": 118,
   "id": "chinese-persian",
   "metadata": {
    "scrolled": false
   },
   "outputs": [
    {
     "data": {
      "image/png": "[encoded data removed]",
      "text/plain": [
       "<Figure size 432x288 with 1 Axes>"
      ]
     },
     "metadata": {
      "needs_background": "light"
     },
     "output_type": "display_data"
    }
   ],
   "source": [
    "plt.hist(clean_n_files, bins=[0.75, 1.25, 1.75, 2.25, 2.75, 3.25])  # density=False would make counts\n",
    "plt.ylabel('count')\n",
    "plt.xlabel('n_files in clean commits');"
   ]
  },
  {
   "cell_type": "code",
   "execution_count": null,
   "id": "indirect-conspiracy",
   "metadata": {},
   "outputs": [],
   "source": []
  },
  {
   "cell_type": "code",
   "execution_count": null,
   "id": "impressive-begin",
   "metadata": {},
   "outputs": [],
   "source": []
  },
  {
   "cell_type": "code",
   "execution_count": null,
   "id": "increasing-multiple",
   "metadata": {},
   "outputs": [],
   "source": []
  },
  {
   "cell_type": "code",
   "execution_count": 53,
   "id": "criminal-charm",
   "metadata": {},
   "outputs": [
    {
     "data": {
      "text/plain": [
       "[['quantum/db/models_v2.py', [[], [[], []]], [[], [[], []]]]]"
      ]
     },
     "execution_count": 53,
     "metadata": {},
     "output_type": "execute_result"
    }
   ],
   "source": [
    "cmt = list(subtrees.items())[14]\n",
    "cmt[1]"
   ]
  },
  {
   "cell_type": "code",
   "execution_count": 65,
   "id": "peripheral-resource",
   "metadata": {},
   "outputs": [],
   "source": [
    "zero_nodes = dict()\n",
    "all_f_counts = 0\n",
    "for commit, files in subtrees.items():\n",
    "    f_count = 0\n",
    "    for f in files:\n",
    "        if len(f[1][0]) == 0 or len(f[2][0]) == 0:\n",
    "            f_count += 1\n",
    "    if f_count:\n",
    "        zero_nodes[commit] = f_count\n",
    "        all_f_counts += f_count"
   ]
  },
  {
   "cell_type": "code",
   "execution_count": 66,
   "id": "automated-showcase",
   "metadata": {},
   "outputs": [
    {
     "data": {
      "text/plain": [
       "1578"
      ]
     },
     "execution_count": 66,
     "metadata": {},
     "output_type": "execute_result"
    }
   ],
   "source": [
    "all_f_counts"
   ]
  },
  {
   "cell_type": "code",
   "execution_count": 58,
   "id": "broke-multiple",
   "metadata": {},
   "outputs": [
    {
     "data": {
      "text/plain": [
       "1359"
      ]
     },
     "execution_count": 58,
     "metadata": {},
     "output_type": "execute_result"
    }
   ],
   "source": [
    "len(zero_nodes)"
   ]
  },
  {
   "cell_type": "code",
   "execution_count": 60,
   "id": "english-naples",
   "metadata": {},
   "outputs": [
    {
     "data": {
      "text/plain": [
       "17"
      ]
     },
     "execution_count": 60,
     "metadata": {},
     "output_type": "execute_result"
    }
   ],
   "source": [
    "len([k for k, v in zero_nodes.items() if v == 3])"
   ]
  },
  {
   "cell_type": "code",
   "execution_count": 94,
   "id": "illegal-access",
   "metadata": {},
   "outputs": [],
   "source": [
    "subtrees_cp = dict()\n",
    "\n",
    "for commit, files in subtrees.items():\n",
    "    new_files = []\n",
    "    for f in files:\n",
    "        if len(f[1][0]) == 0 and len(f[2][0]) == 0:\n",
    "            continue\n",
    "        elif len(f[1][0]) == 0:\n",
    "            f[1][0].append('None')\n",
    "        elif len(f[2][0]) == 0:\n",
    "            f[2][0].append('None')\n",
    "        new_files.append(f)\n",
    "    \n",
    "    if len(new_files):\n",
    "        subtrees_cp[commit] = new_files"
   ]
  },
  {
   "cell_type": "code",
   "execution_count": 95,
   "id": "advanced-treasure",
   "metadata": {},
   "outputs": [
    {
     "data": {
      "text/plain": [
       "3868"
      ]
     },
     "execution_count": 95,
     "metadata": {},
     "output_type": "execute_result"
    }
   ],
   "source": [
    "len(subtrees_cp)"
   ]
  },
  {
   "cell_type": "code",
   "execution_count": 98,
   "id": "impressive-intro",
   "metadata": {},
   "outputs": [],
   "source": [
    "zero_nodes = dict()\n",
    "all_f_counts = 0\n",
    "for commit, files in subtrees_cp.items():\n",
    "    f_count = 0\n",
    "    for f in files:\n",
    "        if len(f[1][0]) == 0 or len(f[2][0]) == 0:\n",
    "            f_count += 1\n",
    "    if f_count:\n",
    "        zero_nodes[commit] = f_count\n",
    "        all_f_counts += f_count"
   ]
  },
  {
   "cell_type": "code",
   "execution_count": 99,
   "id": "regulated-supply",
   "metadata": {},
   "outputs": [
    {
     "data": {
      "text/plain": [
       "0"
      ]
     },
     "execution_count": 99,
     "metadata": {},
     "output_type": "execute_result"
    }
   ],
   "source": [
    "all_f_counts"
   ]
  },
  {
   "cell_type": "code",
   "execution_count": 100,
   "id": "hollywood-insert",
   "metadata": {},
   "outputs": [
    {
     "data": {
      "text/plain": [
       "0"
      ]
     },
     "execution_count": 100,
     "metadata": {},
     "output_type": "execute_result"
    }
   ],
   "source": [
    "len(zero_nodes)"
   ]
  },
  {
   "cell_type": "code",
   "execution_count": 105,
   "id": "strategic-kentucky",
   "metadata": {},
   "outputs": [],
   "source": [
    "with open(data_path + 'subtrees_0.25_3.json', 'w') as fp:\n",
    "    json.dump(subtrees_cp, fp)"
   ]
  },
  {
   "cell_type": "code",
   "execution_count": null,
   "id": "worth-wallace",
   "metadata": {},
   "outputs": [],
   "source": []
  },
  {
   "cell_type": "code",
   "execution_count": null,
   "id": "covered-rings",
   "metadata": {},
   "outputs": [],
   "source": []
  },
  {
   "cell_type": "code",
   "execution_count": 91,
   "id": "flexible-microwave",
   "metadata": {},
   "outputs": [
    {
     "data": {
      "text/plain": [
       "[[['name: AdminActionsController ['],\n",
       "  ['atom_expr '],\n",
       "  ['suite '],\n",
       "  ['classdef ']],\n",
       " [[3, 3, 3], [1, 0, 2]]]"
      ]
     },
     "execution_count": 91,
     "metadata": {},
     "output_type": "execute_result"
    }
   ],
   "source": [
    "files = list(subtrees.items())[13][1]\n",
    "f = files[0]\n",
    "f[1]"
   ]
  },
  {
   "cell_type": "code",
   "execution_count": 84,
   "id": "familiar-corner",
   "metadata": {},
   "outputs": [
    {
     "data": {
      "text/plain": [
       "209"
      ]
     },
     "execution_count": 84,
     "metadata": {},
     "output_type": "execute_result"
    }
   ],
   "source": [
    "max(list(subtrees.items())[13][1][0][2][1][1])"
   ]
  },
  {
   "cell_type": "code",
   "execution_count": 124,
   "id": "intellectual-surrey",
   "metadata": {},
   "outputs": [],
   "source": [
    "for commit, files in subtrees.items():\n",
    "    for f in files:\n",
    "        before = f[2]\n",
    "        n_nodes = len(before[0])\n",
    "        n_src = len(before[1][0])\n",
    "        n_dst = len(before[1][1])\n",
    "        if n_src + n_dst < 2:\n",
    "            continue\n",
    "        if n_nodes <= max(before[1][0]) or n_nodes <= max(before[1][1]):\n",
    "            print('yes')\n",
    "            break"
   ]
  },
  {
   "cell_type": "code",
   "execution_count": null,
   "id": "controversial-adaptation",
   "metadata": {},
   "outputs": [],
   "source": []
  },
  {
   "cell_type": "code",
   "execution_count": null,
   "id": "determined-stream",
   "metadata": {},
   "outputs": [],
   "source": []
  }
 ],
 "metadata": {
  "kernelspec": {
   "display_name": "Python 3",
   "language": "python",
   "name": "python3"
  },
  "language_info": {
   "codemirror_mode": {
    "name": "ipython",
    "version": 3
   },
   "file_extension": ".py",
   "mimetype": "text/x-python",
   "name": "python",
   "nbconvert_exporter": "python",
   "pygments_lexer": "ipython3",
   "version": "3.6.12"
  }
 },
 "nbformat": 4,
 "nbformat_minor": 5
}
