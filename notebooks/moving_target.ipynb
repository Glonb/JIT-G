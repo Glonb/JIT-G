{
 "cells": [
  {
   "cell_type": "code",
   "execution_count": null,
   "metadata": {
    "colab": {
     "base_uri": "https://localhost:8080/",
     "height": 34
    },
    "id": "eyAa6KUyt5be",
    "outputId": "81a8dad1-89ea-474e-9c4a-2c00790acf4b"
   },
   "outputs": [
    {
     "name": "stdout",
     "output_type": "stream",
     "text": [
      "Mounted at /content/drive\n"
     ]
    }
   ],
   "source": [
    "from google.colab import drive\n",
    "drive.mount('/content/drive')"
   ]
  },
  {
   "cell_type": "code",
   "execution_count": 1,
   "metadata": {
    "colab": {
     "base_uri": "https://localhost:8080/",
     "height": 34
    },
    "id": "aOwu3amDsM4Y",
    "outputId": "fc47ab62-a450-468d-8ca5-21ee60c5b4ae"
   },
   "outputs": [
    {
     "data": {
      "text/plain": [
       "(12374, 38)"
      ]
     },
     "execution_count": 1,
     "metadata": {},
     "output_type": "execute_result"
    }
   ],
   "source": [
    "import pandas as pd\n",
    "\n",
    "df1 = pd.read_csv('../data/rawdata.csv')\n",
    "df1.shape"
   ]
  },
  {
   "cell_type": "code",
   "execution_count": 7,
   "metadata": {},
   "outputs": [
    {
     "data": {
      "text/html": [
       "<div>\n",
       "<style scoped>\n",
       "    .dataframe tbody tr th:only-of-type {\n",
       "        vertical-align: middle;\n",
       "    }\n",
       "\n",
       "    .dataframe tbody tr th {\n",
       "        vertical-align: top;\n",
       "    }\n",
       "\n",
       "    .dataframe thead th {\n",
       "        text-align: right;\n",
       "    }\n",
       "</style>\n",
       "<table border=\"1\" class=\"dataframe\">\n",
       "  <thead>\n",
       "    <tr style=\"text-align: right;\">\n",
       "      <th></th>\n",
       "      <th>Unnamed: 0</th>\n",
       "      <th>X</th>\n",
       "      <th>commit_id</th>\n",
       "      <th>author_date</th>\n",
       "      <th>bugcount</th>\n",
       "      <th>fixcount</th>\n",
       "      <th>la</th>\n",
       "      <th>ld</th>\n",
       "      <th>nf</th>\n",
       "      <th>nd</th>\n",
       "      <th>...</th>\n",
       "      <th>rsexp</th>\n",
       "      <th>osexp</th>\n",
       "      <th>asawr</th>\n",
       "      <th>rsawr</th>\n",
       "      <th>osawr</th>\n",
       "      <th>churn</th>\n",
       "      <th>buggy</th>\n",
       "      <th>fix</th>\n",
       "      <th>bugdens</th>\n",
       "      <th>strata</th>\n",
       "    </tr>\n",
       "  </thead>\n",
       "  <tbody>\n",
       "    <tr>\n",
       "      <th>4</th>\n",
       "      <td>15</td>\n",
       "      <td>15</td>\n",
       "      <td>001d36c97eac77410f7dd32290d2142abfb19fa0</td>\n",
       "      <td>1392721937</td>\n",
       "      <td>1</td>\n",
       "      <td>0</td>\n",
       "      <td>12</td>\n",
       "      <td>6</td>\n",
       "      <td>2</td>\n",
       "      <td>2</td>\n",
       "      <td>...</td>\n",
       "      <td>1361.0</td>\n",
       "      <td>2241.0</td>\n",
       "      <td>0.147545</td>\n",
       "      <td>0.184703</td>\n",
       "      <td>0.304041</td>\n",
       "      <td>18</td>\n",
       "      <td>True</td>\n",
       "      <td>False</td>\n",
       "      <td>0.055556</td>\n",
       "      <td>8</td>\n",
       "    </tr>\n",
       "    <tr>\n",
       "      <th>6</th>\n",
       "      <td>24</td>\n",
       "      <td>24</td>\n",
       "      <td>0043044f2e8ee3de8a9995bdbf51aad77f1a3fa9</td>\n",
       "      <td>1373357890</td>\n",
       "      <td>4</td>\n",
       "      <td>0</td>\n",
       "      <td>580</td>\n",
       "      <td>283</td>\n",
       "      <td>8</td>\n",
       "      <td>5</td>\n",
       "      <td>...</td>\n",
       "      <td>42.0</td>\n",
       "      <td>43.0</td>\n",
       "      <td>0.060000</td>\n",
       "      <td>0.860000</td>\n",
       "      <td>0.880000</td>\n",
       "      <td>863</td>\n",
       "      <td>True</td>\n",
       "      <td>False</td>\n",
       "      <td>0.004635</td>\n",
       "      <td>6</td>\n",
       "    </tr>\n",
       "    <tr>\n",
       "      <th>7</th>\n",
       "      <td>29</td>\n",
       "      <td>29</td>\n",
       "      <td>0057aed72c6e92fbc7bfe27eb9a30f191eed3fd4</td>\n",
       "      <td>1380799475</td>\n",
       "      <td>1</td>\n",
       "      <td>0</td>\n",
       "      <td>2</td>\n",
       "      <td>2</td>\n",
       "      <td>1</td>\n",
       "      <td>1</td>\n",
       "      <td>...</td>\n",
       "      <td>449.0</td>\n",
       "      <td>473.0</td>\n",
       "      <td>0.444785</td>\n",
       "      <td>0.460123</td>\n",
       "      <td>0.484663</td>\n",
       "      <td>4</td>\n",
       "      <td>True</td>\n",
       "      <td>False</td>\n",
       "      <td>0.250000</td>\n",
       "      <td>7</td>\n",
       "    </tr>\n",
       "    <tr>\n",
       "      <th>12</th>\n",
       "      <td>36</td>\n",
       "      <td>36</td>\n",
       "      <td>0061c0ce4443395a258a99c70e1c1a7d0435e84e</td>\n",
       "      <td>1340028045</td>\n",
       "      <td>1</td>\n",
       "      <td>0</td>\n",
       "      <td>462</td>\n",
       "      <td>1</td>\n",
       "      <td>4</td>\n",
       "      <td>3</td>\n",
       "      <td>...</td>\n",
       "      <td>45.0</td>\n",
       "      <td>46.0</td>\n",
       "      <td>0.132743</td>\n",
       "      <td>0.407080</td>\n",
       "      <td>0.415929</td>\n",
       "      <td>463</td>\n",
       "      <td>True</td>\n",
       "      <td>False</td>\n",
       "      <td>0.002160</td>\n",
       "      <td>2</td>\n",
       "    </tr>\n",
       "    <tr>\n",
       "      <th>14</th>\n",
       "      <td>43</td>\n",
       "      <td>43</td>\n",
       "      <td>006a4e5e31a12d049c3d6308c3a2d73f57cd980f</td>\n",
       "      <td>1374767629</td>\n",
       "      <td>1</td>\n",
       "      <td>0</td>\n",
       "      <td>15</td>\n",
       "      <td>3</td>\n",
       "      <td>2</td>\n",
       "      <td>2</td>\n",
       "      <td>...</td>\n",
       "      <td>250.0</td>\n",
       "      <td>283.0</td>\n",
       "      <td>0.041526</td>\n",
       "      <td>0.281706</td>\n",
       "      <td>0.318743</td>\n",
       "      <td>18</td>\n",
       "      <td>True</td>\n",
       "      <td>False</td>\n",
       "      <td>0.055556</td>\n",
       "      <td>6</td>\n",
       "    </tr>\n",
       "    <tr>\n",
       "      <th>...</th>\n",
       "      <td>...</td>\n",
       "      <td>...</td>\n",
       "      <td>...</td>\n",
       "      <td>...</td>\n",
       "      <td>...</td>\n",
       "      <td>...</td>\n",
       "      <td>...</td>\n",
       "      <td>...</td>\n",
       "      <td>...</td>\n",
       "      <td>...</td>\n",
       "      <td>...</td>\n",
       "      <td>...</td>\n",
       "      <td>...</td>\n",
       "      <td>...</td>\n",
       "      <td>...</td>\n",
       "      <td>...</td>\n",
       "      <td>...</td>\n",
       "      <td>...</td>\n",
       "      <td>...</td>\n",
       "      <td>...</td>\n",
       "      <td>...</td>\n",
       "    </tr>\n",
       "    <tr>\n",
       "      <th>12349</th>\n",
       "      <td>26802</td>\n",
       "      <td>26802</td>\n",
       "      <td>ff7623f3c9e34a30ebff213fe19c775b1848eb2a</td>\n",
       "      <td>1383098720</td>\n",
       "      <td>1</td>\n",
       "      <td>0</td>\n",
       "      <td>757</td>\n",
       "      <td>6</td>\n",
       "      <td>17</td>\n",
       "      <td>6</td>\n",
       "      <td>...</td>\n",
       "      <td>395.0</td>\n",
       "      <td>395.0</td>\n",
       "      <td>0.005859</td>\n",
       "      <td>0.773438</td>\n",
       "      <td>0.773438</td>\n",
       "      <td>763</td>\n",
       "      <td>True</td>\n",
       "      <td>False</td>\n",
       "      <td>0.001311</td>\n",
       "      <td>7</td>\n",
       "    </tr>\n",
       "    <tr>\n",
       "      <th>12351</th>\n",
       "      <td>26804</td>\n",
       "      <td>26804</td>\n",
       "      <td>ff837025e955799e69eebcab665374436649d6f8</td>\n",
       "      <td>1344875498</td>\n",
       "      <td>1</td>\n",
       "      <td>0</td>\n",
       "      <td>360</td>\n",
       "      <td>52</td>\n",
       "      <td>10</td>\n",
       "      <td>7</td>\n",
       "      <td>...</td>\n",
       "      <td>22.0</td>\n",
       "      <td>94.0</td>\n",
       "      <td>0.371429</td>\n",
       "      <td>0.109524</td>\n",
       "      <td>0.452381</td>\n",
       "      <td>412</td>\n",
       "      <td>True</td>\n",
       "      <td>False</td>\n",
       "      <td>0.002427</td>\n",
       "      <td>2</td>\n",
       "    </tr>\n",
       "    <tr>\n",
       "      <th>12358</th>\n",
       "      <td>26814</td>\n",
       "      <td>26814</td>\n",
       "      <td>ffa04d3e83ad83a51b366f1a3579ed47328c1b43</td>\n",
       "      <td>1367506181</td>\n",
       "      <td>1</td>\n",
       "      <td>0</td>\n",
       "      <td>30</td>\n",
       "      <td>15</td>\n",
       "      <td>2</td>\n",
       "      <td>2</td>\n",
       "      <td>...</td>\n",
       "      <td>739.0</td>\n",
       "      <td>743.0</td>\n",
       "      <td>0.019210</td>\n",
       "      <td>0.789755</td>\n",
       "      <td>0.794023</td>\n",
       "      <td>45</td>\n",
       "      <td>True</td>\n",
       "      <td>False</td>\n",
       "      <td>0.022222</td>\n",
       "      <td>5</td>\n",
       "    </tr>\n",
       "    <tr>\n",
       "      <th>12359</th>\n",
       "      <td>26815</td>\n",
       "      <td>26815</td>\n",
       "      <td>ffa11a64706e898ba3ae45f84920d632b5947add</td>\n",
       "      <td>1380332296</td>\n",
       "      <td>1</td>\n",
       "      <td>0</td>\n",
       "      <td>11</td>\n",
       "      <td>6</td>\n",
       "      <td>3</td>\n",
       "      <td>2</td>\n",
       "      <td>...</td>\n",
       "      <td>135.0</td>\n",
       "      <td>194.0</td>\n",
       "      <td>0.250627</td>\n",
       "      <td>0.340852</td>\n",
       "      <td>0.488722</td>\n",
       "      <td>17</td>\n",
       "      <td>True</td>\n",
       "      <td>False</td>\n",
       "      <td>0.058824</td>\n",
       "      <td>7</td>\n",
       "    </tr>\n",
       "    <tr>\n",
       "      <th>12365</th>\n",
       "      <td>26836</td>\n",
       "      <td>26836</td>\n",
       "      <td>ffcf3431982a591041d642651f778b53e6db5735</td>\n",
       "      <td>1362091722</td>\n",
       "      <td>1</td>\n",
       "      <td>0</td>\n",
       "      <td>430</td>\n",
       "      <td>174</td>\n",
       "      <td>12</td>\n",
       "      <td>8</td>\n",
       "      <td>...</td>\n",
       "      <td>562.0</td>\n",
       "      <td>575.0</td>\n",
       "      <td>0.342291</td>\n",
       "      <td>0.796322</td>\n",
       "      <td>0.814710</td>\n",
       "      <td>604</td>\n",
       "      <td>True</td>\n",
       "      <td>False</td>\n",
       "      <td>0.001656</td>\n",
       "      <td>5</td>\n",
       "    </tr>\n",
       "  </tbody>\n",
       "</table>\n",
       "<p>2442 rows × 38 columns</p>\n",
       "</div>"
      ],
      "text/plain": [
       "       Unnamed: 0      X                                 commit_id  \\\n",
       "4              15     15  001d36c97eac77410f7dd32290d2142abfb19fa0   \n",
       "6              24     24  0043044f2e8ee3de8a9995bdbf51aad77f1a3fa9   \n",
       "7              29     29  0057aed72c6e92fbc7bfe27eb9a30f191eed3fd4   \n",
       "12             36     36  0061c0ce4443395a258a99c70e1c1a7d0435e84e   \n",
       "14             43     43  006a4e5e31a12d049c3d6308c3a2d73f57cd980f   \n",
       "...           ...    ...                                       ...   \n",
       "12349       26802  26802  ff7623f3c9e34a30ebff213fe19c775b1848eb2a   \n",
       "12351       26804  26804  ff837025e955799e69eebcab665374436649d6f8   \n",
       "12358       26814  26814  ffa04d3e83ad83a51b366f1a3579ed47328c1b43   \n",
       "12359       26815  26815  ffa11a64706e898ba3ae45f84920d632b5947add   \n",
       "12365       26836  26836  ffcf3431982a591041d642651f778b53e6db5735   \n",
       "\n",
       "       author_date  bugcount  fixcount   la   ld  nf  nd  ...   rsexp   osexp  \\\n",
       "4       1392721937         1         0   12    6   2   2  ...  1361.0  2241.0   \n",
       "6       1373357890         4         0  580  283   8   5  ...    42.0    43.0   \n",
       "7       1380799475         1         0    2    2   1   1  ...   449.0   473.0   \n",
       "12      1340028045         1         0  462    1   4   3  ...    45.0    46.0   \n",
       "14      1374767629         1         0   15    3   2   2  ...   250.0   283.0   \n",
       "...            ...       ...       ...  ...  ...  ..  ..  ...     ...     ...   \n",
       "12349   1383098720         1         0  757    6  17   6  ...   395.0   395.0   \n",
       "12351   1344875498         1         0  360   52  10   7  ...    22.0    94.0   \n",
       "12358   1367506181         1         0   30   15   2   2  ...   739.0   743.0   \n",
       "12359   1380332296         1         0   11    6   3   2  ...   135.0   194.0   \n",
       "12365   1362091722         1         0  430  174  12   8  ...   562.0   575.0   \n",
       "\n",
       "          asawr     rsawr     osawr  churn buggy    fix   bugdens  strata  \n",
       "4      0.147545  0.184703  0.304041     18  True  False  0.055556       8  \n",
       "6      0.060000  0.860000  0.880000    863  True  False  0.004635       6  \n",
       "7      0.444785  0.460123  0.484663      4  True  False  0.250000       7  \n",
       "12     0.132743  0.407080  0.415929    463  True  False  0.002160       2  \n",
       "14     0.041526  0.281706  0.318743     18  True  False  0.055556       6  \n",
       "...         ...       ...       ...    ...   ...    ...       ...     ...  \n",
       "12349  0.005859  0.773438  0.773438    763  True  False  0.001311       7  \n",
       "12351  0.371429  0.109524  0.452381    412  True  False  0.002427       2  \n",
       "12358  0.019210  0.789755  0.794023     45  True  False  0.022222       5  \n",
       "12359  0.250627  0.340852  0.488722     17  True  False  0.058824       7  \n",
       "12365  0.342291  0.796322  0.814710    604  True  False  0.001656       5  \n",
       "\n",
       "[2442 rows x 38 columns]"
      ]
     },
     "execution_count": 7,
     "metadata": {},
     "output_type": "execute_result"
    }
   ],
   "source": [
    "df1[df1['buggy'] == True]"
   ]
  },
  {
   "cell_type": "code",
   "execution_count": 8,
   "metadata": {},
   "outputs": [
    {
     "data": {
      "text/html": [
       "<div>\n",
       "<style scoped>\n",
       "    .dataframe tbody tr th:only-of-type {\n",
       "        vertical-align: middle;\n",
       "    }\n",
       "\n",
       "    .dataframe tbody tr th {\n",
       "        vertical-align: top;\n",
       "    }\n",
       "\n",
       "    .dataframe thead th {\n",
       "        text-align: right;\n",
       "    }\n",
       "</style>\n",
       "<table border=\"1\" class=\"dataframe\">\n",
       "  <thead>\n",
       "    <tr style=\"text-align: right;\">\n",
       "      <th></th>\n",
       "      <th>Unnamed: 0</th>\n",
       "      <th>X</th>\n",
       "      <th>commit_id</th>\n",
       "      <th>author_date</th>\n",
       "      <th>bugcount</th>\n",
       "      <th>fixcount</th>\n",
       "      <th>la</th>\n",
       "      <th>ld</th>\n",
       "      <th>nf</th>\n",
       "      <th>nd</th>\n",
       "      <th>...</th>\n",
       "      <th>rsexp</th>\n",
       "      <th>osexp</th>\n",
       "      <th>asawr</th>\n",
       "      <th>rsawr</th>\n",
       "      <th>osawr</th>\n",
       "      <th>churn</th>\n",
       "      <th>buggy</th>\n",
       "      <th>fix</th>\n",
       "      <th>bugdens</th>\n",
       "      <th>strata</th>\n",
       "    </tr>\n",
       "  </thead>\n",
       "  <tbody>\n",
       "    <tr>\n",
       "      <th>0</th>\n",
       "      <td>6</td>\n",
       "      <td>6</td>\n",
       "      <td>00057454f6609871c2cabf874876d26a6d0d0641</td>\n",
       "      <td>1358516662</td>\n",
       "      <td>0</td>\n",
       "      <td>0</td>\n",
       "      <td>2</td>\n",
       "      <td>2</td>\n",
       "      <td>2</td>\n",
       "      <td>2</td>\n",
       "      <td>...</td>\n",
       "      <td>259.0</td>\n",
       "      <td>259.0</td>\n",
       "      <td>0.003472</td>\n",
       "      <td>0.902778</td>\n",
       "      <td>0.902778</td>\n",
       "      <td>4</td>\n",
       "      <td>False</td>\n",
       "      <td>False</td>\n",
       "      <td>0.000000</td>\n",
       "      <td>4</td>\n",
       "    </tr>\n",
       "    <tr>\n",
       "      <th>1</th>\n",
       "      <td>9</td>\n",
       "      <td>9</td>\n",
       "      <td>0007d255d9b20da4e5bbcdbaf5813104fbc092da</td>\n",
       "      <td>1358353428</td>\n",
       "      <td>0</td>\n",
       "      <td>0</td>\n",
       "      <td>9</td>\n",
       "      <td>6</td>\n",
       "      <td>1</td>\n",
       "      <td>1</td>\n",
       "      <td>...</td>\n",
       "      <td>276.0</td>\n",
       "      <td>277.0</td>\n",
       "      <td>0.024735</td>\n",
       "      <td>0.978799</td>\n",
       "      <td>0.982332</td>\n",
       "      <td>15</td>\n",
       "      <td>False</td>\n",
       "      <td>False</td>\n",
       "      <td>0.000000</td>\n",
       "      <td>4</td>\n",
       "    </tr>\n",
       "    <tr>\n",
       "      <th>2</th>\n",
       "      <td>11</td>\n",
       "      <td>11</td>\n",
       "      <td>0014f2c828dae5f9481a2bac68fe90a7857b2f59</td>\n",
       "      <td>1377995125</td>\n",
       "      <td>0</td>\n",
       "      <td>0</td>\n",
       "      <td>7</td>\n",
       "      <td>8</td>\n",
       "      <td>2</td>\n",
       "      <td>1</td>\n",
       "      <td>...</td>\n",
       "      <td>257.0</td>\n",
       "      <td>275.0</td>\n",
       "      <td>0.200000</td>\n",
       "      <td>0.573333</td>\n",
       "      <td>0.613333</td>\n",
       "      <td>15</td>\n",
       "      <td>False</td>\n",
       "      <td>False</td>\n",
       "      <td>0.000000</td>\n",
       "      <td>7</td>\n",
       "    </tr>\n",
       "    <tr>\n",
       "      <th>3</th>\n",
       "      <td>14</td>\n",
       "      <td>14</td>\n",
       "      <td>001961ed495a33cc944407888a2797f8a600e091</td>\n",
       "      <td>1367268702</td>\n",
       "      <td>0</td>\n",
       "      <td>0</td>\n",
       "      <td>6</td>\n",
       "      <td>0</td>\n",
       "      <td>1</td>\n",
       "      <td>1</td>\n",
       "      <td>...</td>\n",
       "      <td>1922.0</td>\n",
       "      <td>2506.0</td>\n",
       "      <td>0.217116</td>\n",
       "      <td>0.435363</td>\n",
       "      <td>0.567580</td>\n",
       "      <td>6</td>\n",
       "      <td>False</td>\n",
       "      <td>False</td>\n",
       "      <td>0.000000</td>\n",
       "      <td>5</td>\n",
       "    </tr>\n",
       "    <tr>\n",
       "      <th>4</th>\n",
       "      <td>15</td>\n",
       "      <td>15</td>\n",
       "      <td>001d36c97eac77410f7dd32290d2142abfb19fa0</td>\n",
       "      <td>1392721937</td>\n",
       "      <td>1</td>\n",
       "      <td>0</td>\n",
       "      <td>12</td>\n",
       "      <td>6</td>\n",
       "      <td>2</td>\n",
       "      <td>2</td>\n",
       "      <td>...</td>\n",
       "      <td>1361.0</td>\n",
       "      <td>2241.0</td>\n",
       "      <td>0.147545</td>\n",
       "      <td>0.184703</td>\n",
       "      <td>0.304041</td>\n",
       "      <td>18</td>\n",
       "      <td>True</td>\n",
       "      <td>False</td>\n",
       "      <td>0.055556</td>\n",
       "      <td>8</td>\n",
       "    </tr>\n",
       "    <tr>\n",
       "      <th>5</th>\n",
       "      <td>23</td>\n",
       "      <td>23</td>\n",
       "      <td>0038e3818393415fc9628aef2747136a626682ee</td>\n",
       "      <td>1341252518</td>\n",
       "      <td>0</td>\n",
       "      <td>0</td>\n",
       "      <td>23</td>\n",
       "      <td>17</td>\n",
       "      <td>3</td>\n",
       "      <td>3</td>\n",
       "      <td>...</td>\n",
       "      <td>536.0</td>\n",
       "      <td>536.0</td>\n",
       "      <td>0.015677</td>\n",
       "      <td>0.300672</td>\n",
       "      <td>0.300672</td>\n",
       "      <td>40</td>\n",
       "      <td>False</td>\n",
       "      <td>False</td>\n",
       "      <td>0.000000</td>\n",
       "      <td>2</td>\n",
       "    </tr>\n",
       "    <tr>\n",
       "      <th>6</th>\n",
       "      <td>24</td>\n",
       "      <td>24</td>\n",
       "      <td>0043044f2e8ee3de8a9995bdbf51aad77f1a3fa9</td>\n",
       "      <td>1373357890</td>\n",
       "      <td>4</td>\n",
       "      <td>0</td>\n",
       "      <td>580</td>\n",
       "      <td>283</td>\n",
       "      <td>8</td>\n",
       "      <td>5</td>\n",
       "      <td>...</td>\n",
       "      <td>42.0</td>\n",
       "      <td>43.0</td>\n",
       "      <td>0.060000</td>\n",
       "      <td>0.860000</td>\n",
       "      <td>0.880000</td>\n",
       "      <td>863</td>\n",
       "      <td>True</td>\n",
       "      <td>False</td>\n",
       "      <td>0.004635</td>\n",
       "      <td>6</td>\n",
       "    </tr>\n",
       "    <tr>\n",
       "      <th>7</th>\n",
       "      <td>29</td>\n",
       "      <td>29</td>\n",
       "      <td>0057aed72c6e92fbc7bfe27eb9a30f191eed3fd4</td>\n",
       "      <td>1380799475</td>\n",
       "      <td>1</td>\n",
       "      <td>0</td>\n",
       "      <td>2</td>\n",
       "      <td>2</td>\n",
       "      <td>1</td>\n",
       "      <td>1</td>\n",
       "      <td>...</td>\n",
       "      <td>449.0</td>\n",
       "      <td>473.0</td>\n",
       "      <td>0.444785</td>\n",
       "      <td>0.460123</td>\n",
       "      <td>0.484663</td>\n",
       "      <td>4</td>\n",
       "      <td>True</td>\n",
       "      <td>False</td>\n",
       "      <td>0.250000</td>\n",
       "      <td>7</td>\n",
       "    </tr>\n",
       "    <tr>\n",
       "      <th>8</th>\n",
       "      <td>31</td>\n",
       "      <td>31</td>\n",
       "      <td>00592cfa0b90c66682be2bc31428277c35a35c48</td>\n",
       "      <td>1331588951</td>\n",
       "      <td>0</td>\n",
       "      <td>0</td>\n",
       "      <td>2</td>\n",
       "      <td>2</td>\n",
       "      <td>2</td>\n",
       "      <td>1</td>\n",
       "      <td>...</td>\n",
       "      <td>595.0</td>\n",
       "      <td>636.0</td>\n",
       "      <td>0.063436</td>\n",
       "      <td>0.525110</td>\n",
       "      <td>0.561233</td>\n",
       "      <td>4</td>\n",
       "      <td>False</td>\n",
       "      <td>False</td>\n",
       "      <td>0.000000</td>\n",
       "      <td>1</td>\n",
       "    </tr>\n",
       "    <tr>\n",
       "      <th>9</th>\n",
       "      <td>33</td>\n",
       "      <td>33</td>\n",
       "      <td>005b9950ac84bf3ae06c24ee018f192064060428</td>\n",
       "      <td>1367521170</td>\n",
       "      <td>0</td>\n",
       "      <td>0</td>\n",
       "      <td>3</td>\n",
       "      <td>2</td>\n",
       "      <td>1</td>\n",
       "      <td>1</td>\n",
       "      <td>...</td>\n",
       "      <td>836.0</td>\n",
       "      <td>847.0</td>\n",
       "      <td>0.003606</td>\n",
       "      <td>0.188641</td>\n",
       "      <td>0.191120</td>\n",
       "      <td>5</td>\n",
       "      <td>False</td>\n",
       "      <td>False</td>\n",
       "      <td>0.000000</td>\n",
       "      <td>5</td>\n",
       "    </tr>\n",
       "    <tr>\n",
       "      <th>10</th>\n",
       "      <td>34</td>\n",
       "      <td>34</td>\n",
       "      <td>005ef0796270cb6238dc9863b468b0f1d7026e7c</td>\n",
       "      <td>1358916201</td>\n",
       "      <td>0</td>\n",
       "      <td>0</td>\n",
       "      <td>39</td>\n",
       "      <td>5</td>\n",
       "      <td>3</td>\n",
       "      <td>2</td>\n",
       "      <td>...</td>\n",
       "      <td>1210.0</td>\n",
       "      <td>1214.0</td>\n",
       "      <td>0.001645</td>\n",
       "      <td>0.332054</td>\n",
       "      <td>0.333151</td>\n",
       "      <td>44</td>\n",
       "      <td>False</td>\n",
       "      <td>False</td>\n",
       "      <td>0.000000</td>\n",
       "      <td>4</td>\n",
       "    </tr>\n",
       "    <tr>\n",
       "      <th>11</th>\n",
       "      <td>35</td>\n",
       "      <td>35</td>\n",
       "      <td>005ff1100a11c83808471ece313d0f9001f4653c</td>\n",
       "      <td>1374603627</td>\n",
       "      <td>0</td>\n",
       "      <td>0</td>\n",
       "      <td>132</td>\n",
       "      <td>201</td>\n",
       "      <td>2</td>\n",
       "      <td>1</td>\n",
       "      <td>...</td>\n",
       "      <td>673.0</td>\n",
       "      <td>673.0</td>\n",
       "      <td>0.001330</td>\n",
       "      <td>0.896277</td>\n",
       "      <td>0.896277</td>\n",
       "      <td>333</td>\n",
       "      <td>False</td>\n",
       "      <td>False</td>\n",
       "      <td>0.000000</td>\n",
       "      <td>6</td>\n",
       "    </tr>\n",
       "    <tr>\n",
       "      <th>12</th>\n",
       "      <td>36</td>\n",
       "      <td>36</td>\n",
       "      <td>0061c0ce4443395a258a99c70e1c1a7d0435e84e</td>\n",
       "      <td>1340028045</td>\n",
       "      <td>1</td>\n",
       "      <td>0</td>\n",
       "      <td>462</td>\n",
       "      <td>1</td>\n",
       "      <td>4</td>\n",
       "      <td>3</td>\n",
       "      <td>...</td>\n",
       "      <td>45.0</td>\n",
       "      <td>46.0</td>\n",
       "      <td>0.132743</td>\n",
       "      <td>0.407080</td>\n",
       "      <td>0.415929</td>\n",
       "      <td>463</td>\n",
       "      <td>True</td>\n",
       "      <td>False</td>\n",
       "      <td>0.002160</td>\n",
       "      <td>2</td>\n",
       "    </tr>\n",
       "    <tr>\n",
       "      <th>13</th>\n",
       "      <td>37</td>\n",
       "      <td>37</td>\n",
       "      <td>006254c5050176c9b569007f6ef7203e6067215d</td>\n",
       "      <td>1344016566</td>\n",
       "      <td>0</td>\n",
       "      <td>0</td>\n",
       "      <td>15</td>\n",
       "      <td>3</td>\n",
       "      <td>1</td>\n",
       "      <td>1</td>\n",
       "      <td>...</td>\n",
       "      <td>346.0</td>\n",
       "      <td>346.0</td>\n",
       "      <td>0.707657</td>\n",
       "      <td>0.805104</td>\n",
       "      <td>0.805104</td>\n",
       "      <td>18</td>\n",
       "      <td>False</td>\n",
       "      <td>False</td>\n",
       "      <td>0.000000</td>\n",
       "      <td>2</td>\n",
       "    </tr>\n",
       "    <tr>\n",
       "      <th>14</th>\n",
       "      <td>43</td>\n",
       "      <td>43</td>\n",
       "      <td>006a4e5e31a12d049c3d6308c3a2d73f57cd980f</td>\n",
       "      <td>1374767629</td>\n",
       "      <td>1</td>\n",
       "      <td>0</td>\n",
       "      <td>15</td>\n",
       "      <td>3</td>\n",
       "      <td>2</td>\n",
       "      <td>2</td>\n",
       "      <td>...</td>\n",
       "      <td>250.0</td>\n",
       "      <td>283.0</td>\n",
       "      <td>0.041526</td>\n",
       "      <td>0.281706</td>\n",
       "      <td>0.318743</td>\n",
       "      <td>18</td>\n",
       "      <td>True</td>\n",
       "      <td>False</td>\n",
       "      <td>0.055556</td>\n",
       "      <td>6</td>\n",
       "    </tr>\n",
       "    <tr>\n",
       "      <th>15</th>\n",
       "      <td>44</td>\n",
       "      <td>44</td>\n",
       "      <td>006d673d24778abe6c47e3ee7e1a19e163912440</td>\n",
       "      <td>1367348740</td>\n",
       "      <td>0</td>\n",
       "      <td>0</td>\n",
       "      <td>15</td>\n",
       "      <td>12</td>\n",
       "      <td>1</td>\n",
       "      <td>1</td>\n",
       "      <td>...</td>\n",
       "      <td>477.0</td>\n",
       "      <td>477.0</td>\n",
       "      <td>0.919028</td>\n",
       "      <td>0.967611</td>\n",
       "      <td>0.967611</td>\n",
       "      <td>27</td>\n",
       "      <td>False</td>\n",
       "      <td>False</td>\n",
       "      <td>0.000000</td>\n",
       "      <td>5</td>\n",
       "    </tr>\n",
       "    <tr>\n",
       "      <th>16</th>\n",
       "      <td>45</td>\n",
       "      <td>45</td>\n",
       "      <td>006fea117307460544492a3548203a9ef31f34ba</td>\n",
       "      <td>1326777632</td>\n",
       "      <td>0</td>\n",
       "      <td>0</td>\n",
       "      <td>14</td>\n",
       "      <td>24</td>\n",
       "      <td>3</td>\n",
       "      <td>3</td>\n",
       "      <td>...</td>\n",
       "      <td>152.0</td>\n",
       "      <td>152.0</td>\n",
       "      <td>0.003650</td>\n",
       "      <td>0.279197</td>\n",
       "      <td>0.279197</td>\n",
       "      <td>38</td>\n",
       "      <td>False</td>\n",
       "      <td>False</td>\n",
       "      <td>0.000000</td>\n",
       "      <td>0</td>\n",
       "    </tr>\n",
       "    <tr>\n",
       "      <th>17</th>\n",
       "      <td>46</td>\n",
       "      <td>46</td>\n",
       "      <td>0070b452f1c00817dd4a47deb57bfbe6b79c4152</td>\n",
       "      <td>1361547297</td>\n",
       "      <td>8</td>\n",
       "      <td>0</td>\n",
       "      <td>1793</td>\n",
       "      <td>106</td>\n",
       "      <td>26</td>\n",
       "      <td>12</td>\n",
       "      <td>...</td>\n",
       "      <td>541.0</td>\n",
       "      <td>568.0</td>\n",
       "      <td>0.246996</td>\n",
       "      <td>0.723632</td>\n",
       "      <td>0.759680</td>\n",
       "      <td>1899</td>\n",
       "      <td>True</td>\n",
       "      <td>False</td>\n",
       "      <td>0.004213</td>\n",
       "      <td>4</td>\n",
       "    </tr>\n",
       "    <tr>\n",
       "      <th>18</th>\n",
       "      <td>48</td>\n",
       "      <td>48</td>\n",
       "      <td>00786bc554a2dfacb3c6f02fbb7e9c98f35d4262</td>\n",
       "      <td>1338278278</td>\n",
       "      <td>0</td>\n",
       "      <td>0</td>\n",
       "      <td>162</td>\n",
       "      <td>139</td>\n",
       "      <td>6</td>\n",
       "      <td>4</td>\n",
       "      <td>...</td>\n",
       "      <td>178.0</td>\n",
       "      <td>387.0</td>\n",
       "      <td>0.161211</td>\n",
       "      <td>0.110562</td>\n",
       "      <td>0.239654</td>\n",
       "      <td>301</td>\n",
       "      <td>False</td>\n",
       "      <td>False</td>\n",
       "      <td>0.000000</td>\n",
       "      <td>1</td>\n",
       "    </tr>\n",
       "    <tr>\n",
       "      <th>19</th>\n",
       "      <td>50</td>\n",
       "      <td>50</td>\n",
       "      <td>007a1856dd8b5a781a3abe312a023344995162d6</td>\n",
       "      <td>1347632012</td>\n",
       "      <td>0</td>\n",
       "      <td>0</td>\n",
       "      <td>12</td>\n",
       "      <td>6</td>\n",
       "      <td>1</td>\n",
       "      <td>1</td>\n",
       "      <td>...</td>\n",
       "      <td>827.0</td>\n",
       "      <td>827.0</td>\n",
       "      <td>0.000398</td>\n",
       "      <td>0.329487</td>\n",
       "      <td>0.329487</td>\n",
       "      <td>18</td>\n",
       "      <td>False</td>\n",
       "      <td>False</td>\n",
       "      <td>0.000000</td>\n",
       "      <td>3</td>\n",
       "    </tr>\n",
       "  </tbody>\n",
       "</table>\n",
       "<p>20 rows × 38 columns</p>\n",
       "</div>"
      ],
      "text/plain": [
       "    Unnamed: 0   X                                 commit_id  author_date  \\\n",
       "0            6   6  00057454f6609871c2cabf874876d26a6d0d0641   1358516662   \n",
       "1            9   9  0007d255d9b20da4e5bbcdbaf5813104fbc092da   1358353428   \n",
       "2           11  11  0014f2c828dae5f9481a2bac68fe90a7857b2f59   1377995125   \n",
       "3           14  14  001961ed495a33cc944407888a2797f8a600e091   1367268702   \n",
       "4           15  15  001d36c97eac77410f7dd32290d2142abfb19fa0   1392721937   \n",
       "5           23  23  0038e3818393415fc9628aef2747136a626682ee   1341252518   \n",
       "6           24  24  0043044f2e8ee3de8a9995bdbf51aad77f1a3fa9   1373357890   \n",
       "7           29  29  0057aed72c6e92fbc7bfe27eb9a30f191eed3fd4   1380799475   \n",
       "8           31  31  00592cfa0b90c66682be2bc31428277c35a35c48   1331588951   \n",
       "9           33  33  005b9950ac84bf3ae06c24ee018f192064060428   1367521170   \n",
       "10          34  34  005ef0796270cb6238dc9863b468b0f1d7026e7c   1358916201   \n",
       "11          35  35  005ff1100a11c83808471ece313d0f9001f4653c   1374603627   \n",
       "12          36  36  0061c0ce4443395a258a99c70e1c1a7d0435e84e   1340028045   \n",
       "13          37  37  006254c5050176c9b569007f6ef7203e6067215d   1344016566   \n",
       "14          43  43  006a4e5e31a12d049c3d6308c3a2d73f57cd980f   1374767629   \n",
       "15          44  44  006d673d24778abe6c47e3ee7e1a19e163912440   1367348740   \n",
       "16          45  45  006fea117307460544492a3548203a9ef31f34ba   1326777632   \n",
       "17          46  46  0070b452f1c00817dd4a47deb57bfbe6b79c4152   1361547297   \n",
       "18          48  48  00786bc554a2dfacb3c6f02fbb7e9c98f35d4262   1338278278   \n",
       "19          50  50  007a1856dd8b5a781a3abe312a023344995162d6   1347632012   \n",
       "\n",
       "    bugcount  fixcount    la   ld  nf  nd  ...   rsexp   osexp     asawr  \\\n",
       "0          0         0     2    2   2   2  ...   259.0   259.0  0.003472   \n",
       "1          0         0     9    6   1   1  ...   276.0   277.0  0.024735   \n",
       "2          0         0     7    8   2   1  ...   257.0   275.0  0.200000   \n",
       "3          0         0     6    0   1   1  ...  1922.0  2506.0  0.217116   \n",
       "4          1         0    12    6   2   2  ...  1361.0  2241.0  0.147545   \n",
       "5          0         0    23   17   3   3  ...   536.0   536.0  0.015677   \n",
       "6          4         0   580  283   8   5  ...    42.0    43.0  0.060000   \n",
       "7          1         0     2    2   1   1  ...   449.0   473.0  0.444785   \n",
       "8          0         0     2    2   2   1  ...   595.0   636.0  0.063436   \n",
       "9          0         0     3    2   1   1  ...   836.0   847.0  0.003606   \n",
       "10         0         0    39    5   3   2  ...  1210.0  1214.0  0.001645   \n",
       "11         0         0   132  201   2   1  ...   673.0   673.0  0.001330   \n",
       "12         1         0   462    1   4   3  ...    45.0    46.0  0.132743   \n",
       "13         0         0    15    3   1   1  ...   346.0   346.0  0.707657   \n",
       "14         1         0    15    3   2   2  ...   250.0   283.0  0.041526   \n",
       "15         0         0    15   12   1   1  ...   477.0   477.0  0.919028   \n",
       "16         0         0    14   24   3   3  ...   152.0   152.0  0.003650   \n",
       "17         8         0  1793  106  26  12  ...   541.0   568.0  0.246996   \n",
       "18         0         0   162  139   6   4  ...   178.0   387.0  0.161211   \n",
       "19         0         0    12    6   1   1  ...   827.0   827.0  0.000398   \n",
       "\n",
       "       rsawr     osawr  churn  buggy    fix   bugdens  strata  \n",
       "0   0.902778  0.902778      4  False  False  0.000000       4  \n",
       "1   0.978799  0.982332     15  False  False  0.000000       4  \n",
       "2   0.573333  0.613333     15  False  False  0.000000       7  \n",
       "3   0.435363  0.567580      6  False  False  0.000000       5  \n",
       "4   0.184703  0.304041     18   True  False  0.055556       8  \n",
       "5   0.300672  0.300672     40  False  False  0.000000       2  \n",
       "6   0.860000  0.880000    863   True  False  0.004635       6  \n",
       "7   0.460123  0.484663      4   True  False  0.250000       7  \n",
       "8   0.525110  0.561233      4  False  False  0.000000       1  \n",
       "9   0.188641  0.191120      5  False  False  0.000000       5  \n",
       "10  0.332054  0.333151     44  False  False  0.000000       4  \n",
       "11  0.896277  0.896277    333  False  False  0.000000       6  \n",
       "12  0.407080  0.415929    463   True  False  0.002160       2  \n",
       "13  0.805104  0.805104     18  False  False  0.000000       2  \n",
       "14  0.281706  0.318743     18   True  False  0.055556       6  \n",
       "15  0.967611  0.967611     27  False  False  0.000000       5  \n",
       "16  0.279197  0.279197     38  False  False  0.000000       0  \n",
       "17  0.723632  0.759680   1899   True  False  0.004213       4  \n",
       "18  0.110562  0.239654    301  False  False  0.000000       1  \n",
       "19  0.329487  0.329487     18  False  False  0.000000       3  \n",
       "\n",
       "[20 rows x 38 columns]"
      ]
     },
     "execution_count": 8,
     "metadata": {},
     "output_type": "execute_result"
    }
   ],
   "source": [
    "df1.head(20)"
   ]
  },
  {
   "cell_type": "code",
   "execution_count": null,
   "metadata": {
    "colab": {
     "base_uri": "https://localhost:8080/",
     "height": 680
    },
    "id": "eZ_UWfrl9as7",
    "outputId": "cedfe170-a92b-49ca-99c6-ce759fbab712"
   },
   "outputs": [
    {
     "data": {
      "text/plain": [
       "['Unnamed: 0',\n",
       " 'X',\n",
       " 'commit_id',\n",
       " 'author_date',\n",
       " 'bugcount',\n",
       " 'fixcount',\n",
       " 'la',\n",
       " 'ld',\n",
       " 'nf',\n",
       " 'nd',\n",
       " 'ns',\n",
       " 'ent',\n",
       " 'revd',\n",
       " 'nrev',\n",
       " 'rtime',\n",
       " 'hcmt',\n",
       " 'self',\n",
       " 'ndev',\n",
       " 'age',\n",
       " 'nuc',\n",
       " 'app',\n",
       " 'aexp',\n",
       " 'rexp',\n",
       " 'oexp',\n",
       " 'arexp',\n",
       " 'rrexp',\n",
       " 'orexp',\n",
       " 'asexp',\n",
       " 'rsexp',\n",
       " 'osexp',\n",
       " 'asawr',\n",
       " 'rsawr',\n",
       " 'osawr',\n",
       " 'churn',\n",
       " 'buggy',\n",
       " 'fix',\n",
       " 'bugdens',\n",
       " 'strata']"
      ]
     },
     "execution_count": 16,
     "metadata": {
      "tags": []
     },
     "output_type": "execute_result"
    }
   ],
   "source": [
    "df.columns.tolist()"
   ]
  },
  {
   "cell_type": "code",
   "execution_count": 9,
   "metadata": {
    "colab": {
     "base_uri": "https://localhost:8080/",
     "height": 34
    },
    "id": "aOwu3amDsM4Y",
    "outputId": "fc47ab62-a450-468d-8ca5-21ee60c5b4ae"
   },
   "outputs": [
    {
     "data": {
      "text/plain": [
       "(26855, 32)"
      ]
     },
     "execution_count": 9,
     "metadata": {},
     "output_type": "execute_result"
    }
   ],
   "source": [
    "df2 = pd.read_csv('../data/openstack.csv')\n",
    "df2.shape"
   ]
  },
  {
   "cell_type": "code",
   "execution_count": 13,
   "metadata": {},
   "outputs": [
    {
     "data": {
      "text/plain": [
       "0    NaN\n",
       "1    3.0\n",
       "2    NaN\n",
       "3    NaN\n",
       "4    NaN\n",
       "Name: hcmt, dtype: float64"
      ]
     },
     "execution_count": 13,
     "metadata": {},
     "output_type": "execute_result"
    }
   ],
   "source": [
    "df2['hcmt'].head()"
   ]
  },
  {
   "cell_type": "code",
   "execution_count": 11,
   "metadata": {},
   "outputs": [
    {
     "data": {
      "text/plain": [
       "['commit_id',\n",
       " 'author_date',\n",
       " 'bugcount',\n",
       " 'fixcount',\n",
       " 'la',\n",
       " 'ld',\n",
       " 'nf',\n",
       " 'nd',\n",
       " 'ns',\n",
       " 'ent',\n",
       " 'revd',\n",
       " 'nrev',\n",
       " 'rtime',\n",
       " 'tcmt',\n",
       " 'hcmt',\n",
       " 'self',\n",
       " 'ndev',\n",
       " 'age',\n",
       " 'nuc',\n",
       " 'app',\n",
       " 'aexp',\n",
       " 'rexp',\n",
       " 'oexp',\n",
       " 'arexp',\n",
       " 'rrexp',\n",
       " 'orexp',\n",
       " 'asexp',\n",
       " 'rsexp',\n",
       " 'osexp',\n",
       " 'asawr',\n",
       " 'rsawr',\n",
       " 'osawr']"
      ]
     },
     "execution_count": 11,
     "metadata": {},
     "output_type": "execute_result"
    }
   ],
   "source": [
    "df2.columns.tolist()"
   ]
  },
  {
   "cell_type": "code",
   "execution_count": 19,
   "metadata": {},
   "outputs": [
    {
     "data": {
      "text/plain": [
       "{'author_date',\n",
       " 'bugcount',\n",
       " 'commit_id',\n",
       " 'fixcount',\n",
       " 'oexp',\n",
       " 'orexp',\n",
       " 'osawr',\n",
       " 'osexp',\n",
       " 'revd',\n",
       " 'self',\n",
       " 'tcmt'}"
      ]
     },
     "execution_count": 19,
     "metadata": {},
     "output_type": "execute_result"
    }
   ],
   "source": [
    "original = ['ns', 'nd', 'nf', 'ent', 'la', 'ld', 'lt', 'fix', 'ndev', 'age', 'nuc', 'exp', 'rexp', 'sexp']\n",
    "understood = ['aexp', 'arexp', 'asexp', 'asawr', 'rexp', 'rrexp', 'rsexp', 'rsawr', 'hcmt', 'nrev', 'app', 'rtime']\n",
    "set(df2.columns.tolist()) - set(original) - set(understood)"
   ]
  },
  {
   "cell_type": "code",
   "execution_count": 7,
   "metadata": {},
   "outputs": [
    {
     "data": {
      "text/plain": [
       "(32155, 32)"
      ]
     },
     "execution_count": 7,
     "metadata": {},
     "output_type": "execute_result"
    }
   ],
   "source": [
    "df3 = pd.read_csv('../data/qt.csv')\n",
    "df3.shape"
   ]
  },
  {
   "cell_type": "code",
   "execution_count": 11,
   "metadata": {},
   "outputs": [
    {
     "data": {
      "text/plain": [
       "['commit_id',\n",
       " 'author_date',\n",
       " 'bugcount',\n",
       " 'fixcount',\n",
       " 'la',\n",
       " 'ld',\n",
       " 'nf',\n",
       " 'nd',\n",
       " 'ns',\n",
       " 'ent',\n",
       " 'revd',\n",
       " 'nrev',\n",
       " 'rtime',\n",
       " 'tcmt',\n",
       " 'hcmt',\n",
       " 'self',\n",
       " 'ndev',\n",
       " 'age',\n",
       " 'nuc',\n",
       " 'app',\n",
       " 'aexp',\n",
       " 'rexp',\n",
       " 'oexp',\n",
       " 'arexp',\n",
       " 'rrexp',\n",
       " 'orexp',\n",
       " 'asexp',\n",
       " 'rsexp',\n",
       " 'osexp',\n",
       " 'asawr',\n",
       " 'rsawr',\n",
       " 'osawr']"
      ]
     },
     "execution_count": 11,
     "metadata": {},
     "output_type": "execute_result"
    }
   ],
   "source": [
    "df3.columns.tolist()"
   ]
  },
  {
   "cell_type": "code",
   "execution_count": 12,
   "metadata": {},
   "outputs": [
    {
     "data": {
      "text/plain": [
       "32"
      ]
     },
     "execution_count": 12,
     "metadata": {},
     "output_type": "execute_result"
    }
   ],
   "source": [
    "len(set(df2.columns.tolist()) & set(df3.columns.tolist()))"
   ]
  },
  {
   "cell_type": "code",
   "execution_count": 13,
   "metadata": {},
   "outputs": [
    {
     "data": {
      "text/plain": [
       "{'Unnamed: 0', 'X', 'bugdens', 'buggy', 'churn', 'fix', 'strata'}"
      ]
     },
     "execution_count": 13,
     "metadata": {},
     "output_type": "execute_result"
    }
   ],
   "source": [
    "set(df1.columns.tolist()) - set(df2.columns.tolist())"
   ]
  },
  {
   "cell_type": "code",
   "execution_count": null,
   "metadata": {},
   "outputs": [],
   "source": []
  },
  {
   "cell_type": "code",
   "execution_count": null,
   "metadata": {},
   "outputs": [],
   "source": []
  },
  {
   "cell_type": "code",
   "execution_count": null,
   "metadata": {},
   "outputs": [],
   "source": []
  },
  {
   "cell_type": "code",
   "execution_count": null,
   "metadata": {
    "colab": {
     "base_uri": "https://localhost:8080/",
     "height": 34
    },
    "id": "-C2gk0QJELry",
    "outputId": "c498dd09-f6f9-4dca-f3c7-d6e341c5b8aa"
   },
   "outputs": [
    {
     "data": {
      "text/plain": [
       "[0, 0, 0, 0, 1, 0, 1, 1, 0, 0]"
      ]
     },
     "execution_count": 10,
     "metadata": {
      "tags": []
     },
     "output_type": "execute_result"
    }
   ],
   "source": [
    "y = df['buggy'].tolist()\n",
    "y = [int(label) for label in y]\n",
    "y[:10]"
   ]
  },
  {
   "cell_type": "code",
   "execution_count": null,
   "metadata": {
    "colab": {
     "base_uri": "https://localhost:8080/",
     "height": 156
    },
    "id": "RpLuluhFE4vR",
    "outputId": "583d2449-6790-4f6c-f998-a22cf6e6ef77"
   },
   "outputs": [
    {
     "data": {
      "text/plain": [
       "array([2.00000000e+00, 2.00000000e+00, 2.00000000e+00, 2.00000000e+00,\n",
       "       1.00000000e+00, 1.00000000e+00, 1.00000000e+00, 1.00000000e+00,\n",
       "       6.49522700e+06, 4.00000000e+00, 0.00000000e+00, 6.00000000e+00,\n",
       "       1.70682000e+05, 7.00000000e+00, 2.00000000e+00, 1.20000000e+01,\n",
       "       3.54000000e+02, 3.66000000e+02, 1.00000000e+01, 3.54000000e+02,\n",
       "       3.64000000e+02, 0.00000000e+00, 2.59000000e+02, 2.59000000e+02,\n",
       "       3.47222222e-03, 9.02777778e-01, 9.02777778e-01, 4.00000000e+00,\n",
       "       0.00000000e+00, 0.00000000e+00, 4.00000000e+00])"
      ]
     },
     "execution_count": 36,
     "metadata": {
      "tags": []
     },
     "output_type": "execute_result"
    }
   ],
   "source": [
    "feature_columns = df.columns.tolist()[6:34] + df.columns.tolist()[35:]\n",
    "X = df[feature_columns].to_numpy()\n",
    "X = X.astype(float)\n",
    "X[0]"
   ]
  },
  {
   "cell_type": "code",
   "execution_count": null,
   "metadata": {
    "colab": {
     "base_uri": "https://localhost:8080/",
     "height": 69
    },
    "id": "CE6hKY2mJXtj",
    "outputId": "5533b4f5-e8b0-48f7-f7ec-613917ef52e5"
   },
   "outputs": [
    {
     "data": {
      "text/plain": [
       "array([62.,  0.,  1.,  1.,  1.,  0.,  0., nan, nan, nan, nan,  0.,  0.,\n",
       "        0., nan,  0., nan, nan,  0., nan, nan,  0., nan, nan,  0.,  0.,\n",
       "        0., 62.,  0.,  0.,  5.])"
      ]
     },
     "execution_count": 40,
     "metadata": {
      "tags": []
     },
     "output_type": "execute_result"
    }
   ],
   "source": [
    "X[56]"
   ]
  },
  {
   "cell_type": "code",
   "execution_count": null,
   "metadata": {
    "id": "XxPcOvGSGypE"
   },
   "outputs": [],
   "source": [
    "import numpy as np\n",
    "\n",
    "nans = list(set(np.argwhere(np.isnan(X))[:, 0]))"
   ]
  },
  {
   "cell_type": "code",
   "execution_count": null,
   "metadata": {
    "id": "Us5hiI-WKPrD"
   },
   "outputs": [],
   "source": [
    "X = np.delete(X, nans, axis=0)\n",
    "y = np.delete(y, nans, axis=0)"
   ]
  },
  {
   "cell_type": "code",
   "execution_count": null,
   "metadata": {
    "colab": {
     "base_uri": "https://localhost:8080/",
     "height": 52
    },
    "id": "fDm2QoahKhi5",
    "outputId": "cb6f8c5e-81d9-45af-af40-b3e1c5f6ed1e"
   },
   "outputs": [
    {
     "name": "stdout",
     "output_type": "stream",
     "text": [
      "(12041, 31)\n",
      "12041\n"
     ]
    }
   ],
   "source": [
    "print(X.shape)\n",
    "print(len(y))"
   ]
  },
  {
   "cell_type": "code",
   "execution_count": null,
   "metadata": {
    "id": "pNbOgyeGC2Pt"
   },
   "outputs": [],
   "source": [
    "from sklearn.linear_model import LogisticRegression\n",
    "\n",
    "clf = LogisticRegression(random_state=0).fit(X[:11000], y[:11000])"
   ]
  },
  {
   "cell_type": "code",
   "execution_count": null,
   "metadata": {
    "colab": {
     "base_uri": "https://localhost:8080/",
     "height": 34
    },
    "id": "oXp27v5sKuuR",
    "outputId": "a71a8a43-8ba5-40f7-8c0c-f35496e053ab"
   },
   "outputs": [
    {
     "data": {
      "text/plain": [
       "array([0, 0, 0, 0, 0, 0, 0, 0, 0, 0, 0, 0, 0, 0, 1, 0, 0, 0, 0])"
      ]
     },
     "execution_count": 62,
     "metadata": {
      "tags": []
     },
     "output_type": "execute_result"
    }
   ],
   "source": [
    "clf.predict(X[11001:11020,:])"
   ]
  },
  {
   "cell_type": "code",
   "execution_count": null,
   "metadata": {
    "colab": {
     "base_uri": "https://localhost:8080/",
     "height": 34
    },
    "id": "IdjL3-mkLPFx",
    "outputId": "7d87154e-c5ed-4201-f6e2-32836d0638bb"
   },
   "outputs": [
    {
     "data": {
      "text/plain": [
       "array([0, 0, 1, 0, 0, 0, 0, 0, 0, 0, 0, 0, 0, 1, 0, 1, 0, 0, 1])"
      ]
     },
     "execution_count": 63,
     "metadata": {
      "tags": []
     },
     "output_type": "execute_result"
    }
   ],
   "source": [
    "y[11001:11020]"
   ]
  },
  {
   "cell_type": "code",
   "execution_count": null,
   "metadata": {
    "colab": {
     "base_uri": "https://localhost:8080/",
     "height": 34
    },
    "id": "7I5RiRHLGImw",
    "outputId": "461016a6-d08c-45d5-ca02-bdbf296dd833"
   },
   "outputs": [
    {
     "data": {
      "text/plain": [
       "0.8096153846153846"
      ]
     },
     "execution_count": 64,
     "metadata": {
      "tags": []
     },
     "output_type": "execute_result"
    }
   ],
   "source": [
    "clf.score(X[11001:], y[11001:])"
   ]
  }
 ],
 "metadata": {
  "colab": {
   "name": "tse.ipynb",
   "provenance": []
  },
  "kernelspec": {
   "display_name": "Python 3",
   "language": "python",
   "name": "python3"
  },
  "language_info": {
   "codemirror_mode": {
    "name": "ipython",
    "version": 3
   },
   "file_extension": ".py",
   "mimetype": "text/x-python",
   "name": "python",
   "nbconvert_exporter": "python",
   "pygments_lexer": "ipython3",
   "version": "3.6.12"
  }
 },
 "nbformat": 4,
 "nbformat_minor": 1
}
